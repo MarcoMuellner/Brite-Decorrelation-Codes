{
 "cells": [
  {
   "cell_type": "markdown",
   "id": "63318d4a",
   "metadata": {
    "pycharm": {
     "name": "#%% md\n"
    }
   },
   "source": [
    "Lightcurve Plots for paper"
   ]
  },
  {
   "cell_type": "code",
   "execution_count": null,
   "id": "eb1a0ad1",
   "metadata": {
    "pycharm": {
     "name": "#%%\n"
    }
   },
   "outputs": [],
   "source": [
    "from common import * "
   ]
  },
  {
   "cell_type": "code",
   "execution_count": null,
   "id": "80b6b3a6",
   "metadata": {
    "pycharm": {
     "name": "#%%\n"
    }
   },
   "outputs": [],
   "source": [
    "import matplotlib.pyplot as plt\n",
    "import numpy as np\n",
    "from lightkurve import LightCurve\n",
    "\n",
    "plt.rcParams.update({'font.size': 15, 'xtick.labelsize': 'small', 'ytick.labelsize': 'small','ytick.direction': 'in', 'xtick.direction': 'in',  # tells matplotlib to plot the ticks inward\n",
    "                     'ytick.right': True, 'xtick.top': True, # tells matplotlib to plot the ticks also on the right and on the top\n",
    "                     'xtick.minor.visible': True,'ytick.minor.visible': True, # include minor ticks as well\n",
    "                     'xtick.major.width': 2, 'ytick.major.width': 2 # widht of major ticks\n",
    "\t\t\t\t\t , 'ytick.minor.width': 1.25, 'xtick.minor.width': 1.25, 'axes.titlesize': 'small', 'axes.labelsize' : 'small'\n",
    "                      })"
   ]
  },
  {
   "cell_type": "code",
   "execution_count": null,
   "id": "b35a6fc3",
   "metadata": {
    "pycharm": {
     "name": "#%%\n"
    }
   },
   "outputs": [],
   "source": [
    "config_dict = get_config()\n",
    "default_result_entry = 'all'"
   ]
  },
  {
   "cell_type": "code",
   "execution_count": null,
   "id": "d33721a0",
   "metadata": {
    "pycharm": {
     "name": "#%%\n"
    }
   },
   "outputs": [],
   "source": [
    "def color(path):\n",
    "    if 'BAb' in path or 'BLb' in path:\n",
    "        return 'royalblue'\n",
    "    elif 'BHr' in path or 'UBr' in path or 'BTr' in path:\n",
    "        return 'firebrick'\n",
    "    else:\n",
    "        raise NameError('No Satellite Name in Path: ' + path)\n",
    "\n",
    "\n",
    "        \n",
    "def create_plot(path, fig, line_top):\n",
    "    orbital_periods = {'UBr': 100.3708/1440, 'BAb':  100.3617/1440, 'BTr': 98.2428/1440, 'BLb': 99.6651/1440, 'BHr':97.0972/1440}\n",
    "    start_times = [0, 603.4944567391507, 741.5047292323416, 776.5054984238852, 820.5036300755875, 904.4962054965513, 924.4950121321488, 1001.4959741645878, 1097.5042068469154, 1098.5042688566396, 1174.5043762953505, 1261.496833452413, 1321.4942997357778, 1370.4962364442279, 1373.4964575226386]\n",
    "    end_times = [0, 733.5042846935763, 888.4974788652289, 805.5045879538453, 985.495045537583, 1071.5022059256232, 1097.5042068469154, 1169.5046546215021, 1175.5043165046843, 1263.4966751424365, 1340.4946352750571, 1407.499449583642, 1496.505482261617, 1442.5027029357807, 1418.5005081942502]\n",
    "    name = path.split('/')[-1]\n",
    "    data_path = os.path.join(config_dict['Decorrelation Path'],path)\n",
    "    try:\n",
    "        data = Data(path,None)\n",
    "    except:\n",
    "        return\n",
    "    mosaic = \"\"\"\n",
    "            AABCD\n",
    "            AABED\n",
    "            \"\"\"\n",
    "#     fig = plt.figure(constrained_layout=True,figsize = (15,5),dpi = 100)\n",
    "    axes = fig.subplot_mosaic(mosaic)\n",
    "    lk = data._lk_obj\n",
    "    time_for_ave =lk.time.value\n",
    "    flux_for_ave = lk.flux.value\n",
    "    sort = np.argsort(time_for_ave)\n",
    "    time_for_ave = time_for_ave[sort]\n",
    "    flux_for_ave = flux_for_ave[sort]\n",
    "    orbit_per = orbital_periods[data.satellite]\n",
    "    t_0  = 0\n",
    "    for i in range(len(lk.time)):\n",
    "        if time_for_ave[i + 1] - time_for_ave[i] > 0.5 * orbit_per:\n",
    "            t0 = time_for_ave[i + 1] - 1.45 *orbit_per \n",
    "            break\n",
    "    while t0 > time_for_ave[0]:\n",
    "        t0 -= orbit_per\n",
    "        \n",
    "    t = t0\n",
    "    ave_times = []\n",
    "    ave_flux = []\n",
    "#     print(ave_times)\n",
    "    while t < time_for_ave[-1]:\n",
    "        ind = np.where(np.logical_and(time_for_ave >= t, time_for_ave <=  t + orbit_per))\n",
    "        if ind[0].size > 1:\n",
    "            ave_times.append(np.mean(time_for_ave[ind]))\n",
    "            ave_flux.append(np.median(flux_for_ave[ind]))\n",
    "        t += orbit_per\n",
    "    \n",
    "    \n",
    "    ave_lk = LightCurve(ave_times, ave_flux)\n",
    "#     print(ave_times)\n",
    "    \n",
    "#     figs, ax = plt.subplots()\n",
    "#     ax.plot(time_for_ave[:150], flux_for_ave[:150], 'ko')\n",
    "#     ax.plot(ave_times[:10], ave_flux[:10], 'ro', ms = 5)\n",
    "#     for i in range(10):\n",
    "#         ax.axvline(t0+i*orbit_per)\n",
    "#     plt.show()\n",
    "#     return\n",
    "\n",
    "    \n",
    "    do_ave = True\n",
    "#     try:\n",
    "#         ave_lk = data._ave_lk_obj\n",
    "#     except OS_Error:\n",
    "#         do_ave = False\n",
    "    \n",
    "#     if ave_lk is None:\n",
    "#         do_ave = False\n",
    "    \n",
    "    zoom_in = lk[abs(lk.time.value - np.median(lk.time.value)) <= 5]\n",
    "    \n",
    "    center_time = np.median(lk.time.value)\n",
    "    zoom_in_2 = lk[abs(lk.time.value - np.median(lk.time.value) - 10) <= 5]\n",
    "    if len(zoom_in_2.time.value) > len(zoom_in.time.value):\n",
    "        zoom_in = zoom_in_2\n",
    "        center_time = np.median(lk.time.value) -10 \n",
    "    zoom_in_3 = lk[abs(lk.time.value - np.median(lk.time.value) + 10) <= 5]\n",
    "    if len(zoom_in_3.time.value) > len(zoom_in.time.value):\n",
    "        zoom_in = zoom_in_3\n",
    "        center_time = np.median(lk.time.value) + 10 \n",
    "    zoom_in_4 = lk[abs(lk.time.value - np.median(lk.time.value) + 20) <= 5]\n",
    "    if len(zoom_in_4.time.value) > len(zoom_in.time.value):\n",
    "        zoom_in = zoom_in_4\n",
    "        center_time = np.median(lk.time.value) + 20\n",
    "    zoom_in_5 = lk[abs(lk.time.value - np.median(lk.time.value) - 20) <= 5]\n",
    "    if len(zoom_in_3.time.value) > len(zoom_in.time.value):\n",
    "        zoom_in = zoom_in_3\n",
    "        center_time = np.median(lk.time.value) - 20 \n",
    "    \n",
    "    \n",
    "    c = color(name)\n",
    "\n",
    "    axes[\"A\"].plot(lk.time.value, lk.flux.value, 'ko', ms = 0.5, alpha = 0.5, rasterized = True)\n",
    "    try:\n",
    "        axes[\"A\"].axvline(np.min(zoom_in.time.value), color = 'silver', lw = 1, ls = '--', zorder = 5)\n",
    "        axes[\"A\"].axvline(np.max(zoom_in.time.value), color = 'silver', lw = 1, ls = '--', zorder = 5)\n",
    "    except IndexError:\n",
    "        pass\n",
    "    axes[\"B\"].plot(zoom_in.time.value, zoom_in.flux.value, 'ko', ms = 0.5, alpha = 0.5, rasterized = True)\n",
    "    axes[\"A\"].set_xlim(start_times[field]-5, end_times[field]+5)\n",
    "    if do_ave:\n",
    "        try:\n",
    "            ave_zoom_in = ave_lk[abs(ave_lk.time.value - np.min(zoom_in.time.value) - 5) <= 5]\n",
    "            axes[\"B\"].plot(ave_zoom_in.time.value, ave_zoom_in.flux.value,  color = c, ls = '', marker = 'o',  ms = 1.5, alpha = 0.75, rasterized = True)\n",
    "            axes[\"A\"].plot(ave_lk.time.value, ave_lk.flux.value,  color = c, ls = '', marker = 'o', ms = 1.5, alpha = 0.75, rasterized = True)\n",
    "        except IndexError:\n",
    "            pass\n",
    "    axes[\"B\"].set_xlim(np.min(zoom_in.time.value), np.max(zoom_in.time.value))\n",
    "    pdg = data.to_periodogram(minimum_frequency = 0.1, maximum_frequency = 100)\n",
    "    period = pdg.period_at_max_power.value\n",
    "    period2 = 2*period\n",
    "    # print(period)\n",
    "    \n",
    "\n",
    "    \n",
    "    \n",
    "    axes[\"C\"].plot((lk.time.value%period)/period, lk.flux.value, 'ko', ms = 0.5, alpha = 0.5, rasterized = True)\n",
    "    axes[\"C\"].plot((lk.time.value%period)/period + 1, lk.flux.value, 'ko', ms = 0.5, alpha = 0.5, rasterized = True)\n",
    "    axes[\"E\"].plot((lk.time.value%period2)/period2, lk.flux.value, 'ko', ms = 0.5, alpha = 0.5, rasterized = True)\n",
    "    axes[\"E\"].plot((lk.time.value%period2)/period2 + 1, lk.flux.value, 'ko', ms = 0.5, alpha = 0.5, rasterized = True)\n",
    "    axes[\"D\"].axvline(1/period, color = c, lw = 2, ls = '-')\n",
    "    axes[\"D\"].axvline(1/period2, color = c, lw = 2, ls = '--')\n",
    "    pdg = data.to_periodogram(minimum_frequency = 0.1, maximum_frequency = np.max([10, 2/period]), oversample_factor = 2)\n",
    "    axes[\"D\"].plot(pdg.frequency, pdg.power, 'k-', lw = 1)\n",
    "    axes[\"D\"].set_xlim(0, np.max([10, 2/period]))\n",
    "    \n",
    "    \n",
    "    if do_ave:\n",
    "        axes[\"C\"].plot((ave_lk.time.value%period)/period, ave_lk.flux.value, color = c, ls = '', marker = 'o', ms = 1.5, alpha = 0.75, rasterized = True)\n",
    "        axes[\"C\"].plot((ave_lk.time.value%period)/period + 1, ave_lk.flux.value, color = c, ls = '', marker = 'o', ms = 1.5, alpha = 0.75, rasterized = True)\n",
    "        axes[\"E\"].plot((ave_lk.time.value%period2)/period2, ave_lk.flux.value,  color = c, ls = '', marker = 'o', ms = 1.5, alpha = 0.75, rasterized = True)\n",
    "        axes[\"E\"].plot((ave_lk.time.value%period2)/period2 + 1, ave_lk.flux.value, color = c, ls = '', marker = 'o', ms = 1.5, alpha = 0.75, rasterized = True)\n",
    "\n",
    "    axes[\"B\"].set_yticklabels([])\n",
    "    try:\n",
    "        x1 = np.round(zoom_in.time.value[0] + 2, 0)\n",
    "        x3 = np.round(zoom_in.time.value[0] + 8, 0)\n",
    "        x2 = np.round((x1 + x3)/2, 0)\n",
    "        axes[\"B\"].set_xticks([x1, x2, x3])\n",
    "    except IndexError:\n",
    "        pass\n",
    "    axes[\"C\"].set_yticklabels([])\n",
    "    axes[\"E\"].set_yticklabels([])\n",
    "    axes['D'].yaxis.tick_right()\n",
    "    axes['D'].yaxis.set_label_position('right')\n",
    "    axes['C'].xaxis.set_label_position('top') \n",
    "    axes[\"A\"].invert_yaxis()\n",
    "    axes[\"B\"].invert_yaxis()\n",
    "    axes[\"C\"].invert_yaxis()\n",
    "    axes[\"E\"].invert_yaxis()\n",
    "    axes[\"A\"].set_xlabel(\"time (days)\")\n",
    "    axes[\"B\"].set_xlabel(\"time (days)\")\n",
    "    axes[\"C\"].set_title(\"phase P={:3f} d\".format(period))\n",
    "    axes[\"E\"].set_xlabel(\"phase P={:3f} d\".format(period2))\n",
    "    axes[\"D\"].set_xlabel(\"frequency ($d^{-1}$)\")\n",
    "    axes[\"A\"].set_ylabel(\"Magnitude\")\n",
    "    axes[\"D\"].set_ylabel(\"Power\")\n",
    "    # axes[\"D\"].set_title(\"f={:3f} \".format(1/period) + '${\\\\rm d}^{-1}$')\n",
    "    axes[\"D\"].set_title(\"f={:3f} \".format(1/period) + '${\\\\rm d}^{-1}$')\n",
    "    ylim = axes[\"A\"].get_ylim()\n",
    "    axes[\"B\"].set_ylim(ylim)\n",
    "    axes[\"C\"].set_ylim(ylim)\n",
    "    axes[\"E\"].set_ylim(ylim)\n",
    "    axes[\"A\"].set_title(data.starname + \"   \" + data.satellite + \"    Field:\" + data.field)\n",
    "    # plt.tight_layout()\n",
    "    plt.subplots_adjust(wspace=0, hspace=0, left = 0.05, right = 0.95, top = 0.85, bottom = 0.175)\n",
    "\n",
    "    if line_top:\n",
    "\n",
    "        axes[\"A\"].annotate('', xy=(-1, 1.15), xycoords='axes fraction', xytext=(5, 1.175),\n",
    "                    arrowprops=dict(arrowstyle=\"-\", color='k', lw = 3))\n",
    "\n",
    "\n",
    "def create_plot_array(array_of_datasets, name, file, field):\n",
    "    n = len(array_of_datasets)\n",
    "    \n",
    "    fig = plt.figure(constrained_layout=True, figsize=(21, 29.7 / 10 * n), dpi =100)\n",
    "    subfigs = fig.subfigures(n, 1, wspace = 0.5)\n",
    "    for i in range(n):\n",
    "        line_top = False\n",
    "        if i == 0:\n",
    "            line_top = False\n",
    "        elif array_of_datasets[i-1].starname != array_of_datasets[i].starname:\n",
    "            line_top = True\n",
    "        create_plot(array_of_datasets[i]._path, subfigs[i], line_top)\n",
    "    fig.patch.set_linewidth(4)\n",
    "    fig.patch.set_edgecolor('black')\n",
    "    plt.savefig(f\"../combined_plots/{name}.pdf\", facecolor = \"white\",edgecolor=fig.get_edgecolor())\n",
    "    file.write(\"\\\\begin{figure*}\\n\")\n",
    "    file.write(\"    \\\\centering\\n\")\n",
    "    file.write(\"    \\\\includegraphics[width=0.85\\\\linewidth]{Figures/light_curves/\" + name + \".pdf}\\n\")\n",
    "    string_names = name.split(f\"Field{field}\")[-1]\n",
    "    stars_names = string_names.split('-')\n",
    "    stars_string = stars_names[0]\n",
    "    try:\n",
    "        for s in stars_names[1:-1]:\n",
    "            stars_string = stars_string + \", \" + s\n",
    "    except IndexError:\n",
    "        print('There is only one star')\n",
    "        pass\n",
    "    file.write(\"    \\\\caption{\" + f\"Light curves for field \\\\#{field} for the following stars: \" + stars_string + \".}\\n\")\n",
    "    file.write(\"    \\\\label{fig:\" + name + \"}\\n\")\n",
    "    file.write(\"\\\\end{figure*}\\n\")\n",
    "    print(f'Saved {name}.png')\n"
   ]
  },
  {
   "cell_type": "code",
   "execution_count": null,
   "id": "10d20e4a",
   "metadata": {
    "pycharm": {
     "name": "#%%\n"
    }
   },
   "outputs": [],
   "source": [
    "num = 0\n",
    "# for field in [9, 10, 11, 12, 14]:\n",
    "import warnings\n",
    "\n",
    "with warnings.catch_warnings():\n",
    "    warnings.simplefilter(\"ignore\")\n",
    "\n",
    "    for field in [9]:\n",
    "        f = open(f\"../combined_plots/field{field}.tex\", \"w\")\n",
    "        stars = load(field)\n",
    "        array_of_datasets = []\n",
    "        name = f'Field{field}'\n",
    "        for star in stars:\n",
    "            result_path = star.results[0]\n",
    "            to_add = []\n",
    "            for dataset in star.get_all_data_sets(result_path):\n",
    "                if dataset.combined:\n",
    "                    to_add.append(dataset)\n",
    "            if len(to_add) > 11 - len(array_of_datasets):\n",
    "                create_plot_array(array_of_datasets, name, f, field)\n",
    "                array_of_datasets = []\n",
    "                name = f'Field{field}'\n",
    "            name= name + star.__str__() + '-'\n",
    "            for dataset in to_add:\n",
    "                array_of_datasets.append(dataset)\n",
    "            if len(array_of_datasets) == 10:\n",
    "                create_plot_array(array_of_datasets, name, f, field)\n",
    "                array_of_datasets = []\n",
    "                name = f'Field{field}'\n",
    "\n",
    "        if array_of_datasets:\n",
    "            create_plot_array(array_of_datasets, name, f, field)\n",
    "        f.close()\n",
    "        "
   ]
  },
  {
   "cell_type": "code",
   "execution_count": null,
   "id": "ad9f3097",
   "metadata": {
    "pycharm": {
     "name": "#%%\n"
    }
   },
   "outputs": [],
   "source": []
  },
  {
   "cell_type": "code",
   "execution_count": null,
   "id": "77d4b44e",
   "metadata": {
    "pycharm": {
     "name": "#%%\n"
    }
   },
   "outputs": [],
   "source": []
  },
  {
   "cell_type": "code",
   "execution_count": null,
   "id": "1249c4d6",
   "metadata": {
    "pycharm": {
     "name": "#%%\n"
    }
   },
   "outputs": [],
   "source": []
  }
 ],
 "metadata": {
  "kernelspec": {
   "display_name": "Python 3 (ipykernel)",
   "language": "python",
   "name": "python3"
  },
  "language_info": {
   "codemirror_mode": {
    "name": "ipython",
    "version": 3
   },
   "file_extension": ".py",
   "mimetype": "text/x-python",
   "name": "python",
   "nbconvert_exporter": "python",
   "pygments_lexer": "ipython3",
   "version": "3.7.5"
  }
 },
 "nbformat": 4,
 "nbformat_minor": 5
}
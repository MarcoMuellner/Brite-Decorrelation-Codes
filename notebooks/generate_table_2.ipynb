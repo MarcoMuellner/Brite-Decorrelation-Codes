{
 "cells": [
  {
   "cell_type": "code",
   "execution_count": 16,
   "metadata": {
    "collapsed": true
   },
   "outputs": [],
   "source": [
    "from common import *\n",
    "import pandas as pd"
   ]
  },
  {
   "cell_type": "code",
   "execution_count": 2,
   "outputs": [],
   "source": [
    "fields = [9,10,11,12,14]"
   ],
   "metadata": {
    "collapsed": false,
    "pycharm": {
     "name": "#%%\n"
    }
   }
  },
  {
   "cell_type": "code",
   "execution_count": 3,
   "outputs": [
    {
     "name": "stdout",
     "output_type": "stream",
     "text": [
      "No available data!\n"
     ]
    }
   ],
   "source": [
    "stars = load(fields[0])"
   ],
   "metadata": {
    "collapsed": false,
    "pycharm": {
     "name": "#%%\n"
    }
   }
  },
  {
   "cell_type": "code",
   "execution_count": 4,
   "outputs": [
    {
     "data": {
      "text/plain": "'09-Sco-I-2015'"
     },
     "execution_count": 4,
     "metadata": {},
     "output_type": "execute_result"
    }
   ],
   "source": [
    "field_name = [i.field_name for i in stars if i.field_name is not None][0]\n",
    "field_name"
   ],
   "metadata": {
    "collapsed": false,
    "pycharm": {
     "name": "#%%\n"
    }
   }
  },
  {
   "cell_type": "code",
   "execution_count": 14,
   "outputs": [
    {
     "data": {
      "text/plain": "('* del Lup', 'PulsV*bCep', 'B1.5IV', 3.19)"
     },
     "execution_count": 14,
     "metadata": {},
     "output_type": "execute_result"
    }
   ],
   "source": [
    "stars[0].simbad['MAIN_ID'].value[0],stars[0].simbad['OTYPE'].value[0],stars[0].simbad['SP_TYPE'].value[0],stars[0].simbad['FLUX_V'].value[0]"
   ],
   "metadata": {
    "collapsed": false,
    "pycharm": {
     "name": "#%%\n"
    }
   }
  },
  {
   "cell_type": "code",
   "execution_count": 26,
   "outputs": [
    {
     "name": "stdout",
     "output_type": "stream",
     "text": [
      "No available data!\n",
      "No available data!\n",
      "No available data!\n",
      "No available data!\n",
      "No available data!\n",
      "No available data!\n",
      "No available data!\n",
      "No available data!\n",
      "No available data!\n"
     ]
    },
    {
     "data": {
      "text/plain": "           HD#  Star name     V Sp. type      Field name Simbad type  \\\n0    HD 136298  * del Lup  3.19   B1.5IV   09-Sco-I-2015  PulsV*bCep   \n1    HD 136504  * del Lup  3.19   B1.5IV   09-Sco-I-2015  PulsV*bCep   \n2    HD 136664  * del Lup  3.19   B1.5IV   09-Sco-I-2015  PulsV*bCep   \n3    HD 138690  * del Lup  3.19   B1.5IV   09-Sco-I-2015  PulsV*bCep   \n4    HD 139365  * del Lup  3.19   B1.5IV   09-Sco-I-2015  PulsV*bCep   \n..         ...        ...   ...      ...             ...         ...   \n110   HD202109  * del Cyg  2.87     A0IV  10-Cyg-II-2015         PM*   \n111   HD202444  * del Cyg  2.87     A0IV  10-Cyg-II-2015         PM*   \n112   HD202850  * del Cyg  2.87     A0IV  10-Cyg-II-2015         PM*   \n113   HD202904  * del Cyg  2.87     A0IV  10-Cyg-II-2015         PM*   \n114   HD203064  * del Cyg  2.87     A0IV  10-Cyg-II-2015         PM*   \n\n    Ref to brite papers  \n0                     -  \n1                     -  \n2                     -  \n3                     -  \n4                     -  \n..                  ...  \n110                   -  \n111                   -  \n112                   -  \n113                   -  \n114                   -  \n\n[115 rows x 7 columns]",
      "text/html": "<div>\n<style scoped>\n    .dataframe tbody tr th:only-of-type {\n        vertical-align: middle;\n    }\n\n    .dataframe tbody tr th {\n        vertical-align: top;\n    }\n\n    .dataframe thead th {\n        text-align: right;\n    }\n</style>\n<table border=\"1\" class=\"dataframe\">\n  <thead>\n    <tr style=\"text-align: right;\">\n      <th></th>\n      <th>HD#</th>\n      <th>Star name</th>\n      <th>V</th>\n      <th>Sp. type</th>\n      <th>Field name</th>\n      <th>Simbad type</th>\n      <th>Ref to brite papers</th>\n    </tr>\n  </thead>\n  <tbody>\n    <tr>\n      <th>0</th>\n      <td>HD 136298</td>\n      <td>* del Lup</td>\n      <td>3.19</td>\n      <td>B1.5IV</td>\n      <td>09-Sco-I-2015</td>\n      <td>PulsV*bCep</td>\n      <td>-</td>\n    </tr>\n    <tr>\n      <th>1</th>\n      <td>HD 136504</td>\n      <td>* del Lup</td>\n      <td>3.19</td>\n      <td>B1.5IV</td>\n      <td>09-Sco-I-2015</td>\n      <td>PulsV*bCep</td>\n      <td>-</td>\n    </tr>\n    <tr>\n      <th>2</th>\n      <td>HD 136664</td>\n      <td>* del Lup</td>\n      <td>3.19</td>\n      <td>B1.5IV</td>\n      <td>09-Sco-I-2015</td>\n      <td>PulsV*bCep</td>\n      <td>-</td>\n    </tr>\n    <tr>\n      <th>3</th>\n      <td>HD 138690</td>\n      <td>* del Lup</td>\n      <td>3.19</td>\n      <td>B1.5IV</td>\n      <td>09-Sco-I-2015</td>\n      <td>PulsV*bCep</td>\n      <td>-</td>\n    </tr>\n    <tr>\n      <th>4</th>\n      <td>HD 139365</td>\n      <td>* del Lup</td>\n      <td>3.19</td>\n      <td>B1.5IV</td>\n      <td>09-Sco-I-2015</td>\n      <td>PulsV*bCep</td>\n      <td>-</td>\n    </tr>\n    <tr>\n      <th>...</th>\n      <td>...</td>\n      <td>...</td>\n      <td>...</td>\n      <td>...</td>\n      <td>...</td>\n      <td>...</td>\n      <td>...</td>\n    </tr>\n    <tr>\n      <th>110</th>\n      <td>HD202109</td>\n      <td>* del Cyg</td>\n      <td>2.87</td>\n      <td>A0IV</td>\n      <td>10-Cyg-II-2015</td>\n      <td>PM*</td>\n      <td>-</td>\n    </tr>\n    <tr>\n      <th>111</th>\n      <td>HD202444</td>\n      <td>* del Cyg</td>\n      <td>2.87</td>\n      <td>A0IV</td>\n      <td>10-Cyg-II-2015</td>\n      <td>PM*</td>\n      <td>-</td>\n    </tr>\n    <tr>\n      <th>112</th>\n      <td>HD202850</td>\n      <td>* del Cyg</td>\n      <td>2.87</td>\n      <td>A0IV</td>\n      <td>10-Cyg-II-2015</td>\n      <td>PM*</td>\n      <td>-</td>\n    </tr>\n    <tr>\n      <th>113</th>\n      <td>HD202904</td>\n      <td>* del Cyg</td>\n      <td>2.87</td>\n      <td>A0IV</td>\n      <td>10-Cyg-II-2015</td>\n      <td>PM*</td>\n      <td>-</td>\n    </tr>\n    <tr>\n      <th>114</th>\n      <td>HD203064</td>\n      <td>* del Cyg</td>\n      <td>2.87</td>\n      <td>A0IV</td>\n      <td>10-Cyg-II-2015</td>\n      <td>PM*</td>\n      <td>-</td>\n    </tr>\n  </tbody>\n</table>\n<p>115 rows × 7 columns</p>\n</div>"
     },
     "execution_count": 26,
     "metadata": {},
     "output_type": "execute_result"
    }
   ],
   "source": [
    "data = []\n",
    "for field in fields:\n",
    "    stars = load(field)\n",
    "    field_name = [i.field_name for i in stars if i.field_name is not None][0]\n",
    "    for star in stars:\n",
    "        data.append([\n",
    "            star.name,\n",
    "            stars[0].simbad['MAIN_ID'].value[0],\n",
    "            stars[0].simbad['FLUX_V'].value[0],\n",
    "            stars[0].simbad['SP_TYPE'].value[0],\n",
    "            field_name,\n",
    "            stars[0].simbad['OTYPE'].value[0],\n",
    "            \"-\"]\n",
    "        )\n",
    "\n",
    "header = ['HD#','Star name','V','Sp. type','Field name','Simbad type','Ref to brite papers']\n",
    "frame = pd.DataFrame(data,columns=header)\n",
    "frame = frame.sort_values(by='HD#').reset_index(drop=True)\n",
    "frame.to_csv('table2.csv')\n",
    "frame"
   ],
   "metadata": {
    "collapsed": false,
    "pycharm": {
     "name": "#%%\n"
    }
   }
  },
  {
   "cell_type": "code",
   "execution_count": 27,
   "outputs": [],
   "source": [
    "frame.to_csv('table2.csv')"
   ],
   "metadata": {
    "collapsed": false,
    "pycharm": {
     "name": "#%%\n"
    }
   }
  },
  {
   "cell_type": "code",
   "execution_count": null,
   "outputs": [],
   "source": [],
   "metadata": {
    "collapsed": false,
    "pycharm": {
     "name": "#%%\n"
    }
   }
  }
 ],
 "metadata": {
  "kernelspec": {
   "display_name": "Python 3",
   "language": "python",
   "name": "python3"
  },
  "language_info": {
   "codemirror_mode": {
    "name": "ipython",
    "version": 2
   },
   "file_extension": ".py",
   "mimetype": "text/x-python",
   "name": "python",
   "nbconvert_exporter": "python",
   "pygments_lexer": "ipython2",
   "version": "2.7.6"
  }
 },
 "nbformat": 4,
 "nbformat_minor": 0
}
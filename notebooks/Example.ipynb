{
 "cells": [
  {
   "cell_type": "markdown",
   "id": "53dabd23",
   "metadata": {},
   "source": [
    "# A quick example on how to deal with the data\n",
    "\n",
    "This notebook serves as a little guidance on how to deal with the reduced brite data. Please look through this carefully, and take note of the comments.\n",
    "\n",
    "# Features Todo\n",
    "- ~~point to point scatter~~\n",
    "- T, 1/T\n",
    "- ~~Number of datapoints~~\n",
    "- Time sampling\n",
    "- ~~Noise~~"
   ]
  },
  {
   "cell_type": "code",
   "execution_count": 1,
   "id": "9edb8fd3",
   "metadata": {},
   "outputs": [
    {
     "name": "stdout",
     "output_type": "stream",
     "text": [
      "/Users/thomas/.brite\n"
     ]
    }
   ],
   "source": [
    "#this should always be your starting point on any notebook. Loads the data types\n",
    "from common import *"
   ]
  },
  {
   "cell_type": "code",
   "execution_count": 2,
   "id": "a2dc4ea1",
   "metadata": {},
   "outputs": [
    {
     "data": {
      "text/plain": [
       "[HD 136504,\n",
       " HD 149438,\n",
       " HD 151890,\n",
       " HD 149038,\n",
       " HD 143275,\n",
       " HD 148478,\n",
       " HD 148688,\n",
       " HD 142669,\n",
       " HD 139365,\n",
       " HD 143118,\n",
       " HD 151804,\n",
       " HD 147165,\n",
       " HD 138690,\n",
       " HD 149404,\n",
       " HD 144294,\n",
       " HD 151985,\n",
       " HD 143018,\n",
       " HD 141556,\n",
       " HD 144217,\n",
       " HD 136298,\n",
       " HD 144470,\n",
       " HD 145502,\n",
       " HD 136664,\n",
       " HD 145482,\n",
       " HD 148703,\n",
       " HD 151680]"
      ]
     },
     "execution_count": 2,
     "metadata": {},
     "output_type": "execute_result"
    }
   ],
   "source": [
    "# using the load function, you can load a certain field from your hard drive. It returns a list\n",
    "# of possible stars, which you can use\n",
    "stars = load(9)\n",
    "stars"
   ]
  },
  {
   "cell_type": "code",
   "execution_count": 3,
   "id": "c9532dd5",
   "metadata": {
    "pycharm": {
     "name": "#%%\n"
    }
   },
   "outputs": [],
   "source": [
    "#pick one of the stars you are interested in\n",
    "star = stars[-2]"
   ]
  },
  {
   "cell_type": "code",
   "execution_count": 4,
   "id": "5d59133b",
   "metadata": {
    "pycharm": {
     "name": "#%%\n"
    }
   },
   "outputs": [
    {
     "data": {
      "text/plain": [
       "['all']"
      ]
     },
     "execution_count": 4,
     "metadata": {},
     "output_type": "execute_result"
    }
   ],
   "source": [
    "#most stars will have a number of subfolders, with multiple reductions in them. Pick the one\n",
    "#you like\n",
    "star.results"
   ]
  },
  {
   "cell_type": "code",
   "execution_count": 5,
   "id": "9b7628f8",
   "metadata": {
    "pycharm": {
     "name": "#%%\n"
    }
   },
   "outputs": [
    {
     "name": "stdout",
     "output_type": "stream",
     "text": [
      "Please choose a dataset by entering a number:\n",
      " 1): HD148703_09-Sco-I-2015_BHr_3_3_3_merged_.ndat\n",
      "2): HD148703_09-Sco-I-2015_UBr_1_3_A.ndat\n",
      "3): HD148703_09-Sco-I-2015_BLb_2_3_A.ndat\n",
      "4): HD148703_09-Sco-I-2015_BLb_3_3_A.ndat\n",
      "5): HD148703_09-Sco-I-2015_BLb_5_3_A.ndat\n",
      "6): HD148703_09-Sco-I-2015_BLb_4_3_A.ndat\n",
      "7): HD148703_09-Sco-I-2015_BHr_3_3_A.ndat\n",
      "8): HD148703_09-Sco-I-2015_UBr_1_2_3_4_3_merged_.ndat\n",
      "9): HD148703_09-Sco-I-2015_BLb_1_3_A.ndat\n",
      "10): HD148703_09-Sco-I-2015_UBr_3_3_A.ndat\n",
      "11): HD148703_09-Sco-I-2015_UBr_2_3_A.ndat\n",
      "12): HD148703_09-Sco-I-2015_BLb_1_2_3_4_5_6_3_merged_.ndat\n",
      "13): HD148703_09-Sco-I-2015_UBr_1_2_3_4_3.ndat\n",
      "14): HD148703_09-Sco-I-2015_UBr_4_3_A.ndat\n",
      "15): HD148703_09-Sco-I-2015_BHr_3_3_3.ndat\n",
      "16): HD148703_09-Sco-I-2015_BLb_1_2_3_4_5_6_3.ndat\n",
      "17): HD148703_09-Sco-I-2015_BLb_6_3_A.ndat\n",
      "18): HD148703_09-Sco-I-2015_UBr_1-2-3-4_3_A.ndat\n",
      "19): HD148703_09-Sco-I-2015_BHr_3_3_A.ndat\n",
      "20): HD148703_09-Sco-I-2015_BLb_1-2-3-4-5-6_3_A.ndat1\n"
     ]
    },
    {
     "name": "stderr",
     "output_type": "stream",
     "text": [
      "/Users/thomas/Documents/Projects/BRITE/Brite-Decorrelation-Codes/venv/lib/python3.7/site-packages/erfa/core.py:155: ErfaWarning: ERFA function \"utctai\" yielded 35351 of \"dubious year (Note 3)\"\n",
      "  ErfaWarning)\n",
      "/Users/thomas/Documents/Projects/BRITE/Brite-Decorrelation-Codes/venv/lib/python3.7/site-packages/erfa/core.py:155: ErfaWarning: ERFA function \"utctai\" yielded 1197 of \"dubious year (Note 3)\"\n",
      "  ErfaWarning)\n"
     ]
    }
   ],
   "source": [
    "#Feed the result you like into the get_data function which loads the data in the Data object\n",
    "data = star.get_data(star.results[0])"
   ]
  },
  {
   "cell_type": "code",
   "execution_count": 7,
   "id": "49c6f18e",
   "metadata": {
    "pycharm": {
     "name": "#%%\n"
    }
   },
   "outputs": [
    {
     "data": {
      "application/javascript": [
       "/* Put everything inside the global mpl namespace */\n",
       "/* global mpl */\n",
       "window.mpl = {};\n",
       "\n",
       "mpl.get_websocket_type = function () {\n",
       "    if (typeof WebSocket !== 'undefined') {\n",
       "        return WebSocket;\n",
       "    } else if (typeof MozWebSocket !== 'undefined') {\n",
       "        return MozWebSocket;\n",
       "    } else {\n",
       "        alert(\n",
       "            'Your browser does not have WebSocket support. ' +\n",
       "                'Please try Chrome, Safari or Firefox ≥ 6. ' +\n",
       "                'Firefox 4 and 5 are also supported but you ' +\n",
       "                'have to enable WebSockets in about:config.'\n",
       "        );\n",
       "    }\n",
       "};\n",
       "\n",
       "mpl.figure = function (figure_id, websocket, ondownload, parent_element) {\n",
       "    this.id = figure_id;\n",
       "\n",
       "    this.ws = websocket;\n",
       "\n",
       "    this.supports_binary = this.ws.binaryType !== undefined;\n",
       "\n",
       "    if (!this.supports_binary) {\n",
       "        var warnings = document.getElementById('mpl-warnings');\n",
       "        if (warnings) {\n",
       "            warnings.style.display = 'block';\n",
       "            warnings.textContent =\n",
       "                'This browser does not support binary websocket messages. ' +\n",
       "                'Performance may be slow.';\n",
       "        }\n",
       "    }\n",
       "\n",
       "    this.imageObj = new Image();\n",
       "\n",
       "    this.context = undefined;\n",
       "    this.message = undefined;\n",
       "    this.canvas = undefined;\n",
       "    this.rubberband_canvas = undefined;\n",
       "    this.rubberband_context = undefined;\n",
       "    this.format_dropdown = undefined;\n",
       "\n",
       "    this.image_mode = 'full';\n",
       "\n",
       "    this.root = document.createElement('div');\n",
       "    this.root.setAttribute('style', 'display: inline-block');\n",
       "    this._root_extra_style(this.root);\n",
       "\n",
       "    parent_element.appendChild(this.root);\n",
       "\n",
       "    this._init_header(this);\n",
       "    this._init_canvas(this);\n",
       "    this._init_toolbar(this);\n",
       "\n",
       "    var fig = this;\n",
       "\n",
       "    this.waiting = false;\n",
       "\n",
       "    this.ws.onopen = function () {\n",
       "        fig.send_message('supports_binary', { value: fig.supports_binary });\n",
       "        fig.send_message('send_image_mode', {});\n",
       "        if (fig.ratio !== 1) {\n",
       "            fig.send_message('set_dpi_ratio', { dpi_ratio: fig.ratio });\n",
       "        }\n",
       "        fig.send_message('refresh', {});\n",
       "    };\n",
       "\n",
       "    this.imageObj.onload = function () {\n",
       "        if (fig.image_mode === 'full') {\n",
       "            // Full images could contain transparency (where diff images\n",
       "            // almost always do), so we need to clear the canvas so that\n",
       "            // there is no ghosting.\n",
       "            fig.context.clearRect(0, 0, fig.canvas.width, fig.canvas.height);\n",
       "        }\n",
       "        fig.context.drawImage(fig.imageObj, 0, 0);\n",
       "    };\n",
       "\n",
       "    this.imageObj.onunload = function () {\n",
       "        fig.ws.close();\n",
       "    };\n",
       "\n",
       "    this.ws.onmessage = this._make_on_message_function(this);\n",
       "\n",
       "    this.ondownload = ondownload;\n",
       "};\n",
       "\n",
       "mpl.figure.prototype._init_header = function () {\n",
       "    var titlebar = document.createElement('div');\n",
       "    titlebar.classList =\n",
       "        'ui-dialog-titlebar ui-widget-header ui-corner-all ui-helper-clearfix';\n",
       "    var titletext = document.createElement('div');\n",
       "    titletext.classList = 'ui-dialog-title';\n",
       "    titletext.setAttribute(\n",
       "        'style',\n",
       "        'width: 100%; text-align: center; padding: 3px;'\n",
       "    );\n",
       "    titlebar.appendChild(titletext);\n",
       "    this.root.appendChild(titlebar);\n",
       "    this.header = titletext;\n",
       "};\n",
       "\n",
       "mpl.figure.prototype._canvas_extra_style = function (_canvas_div) {};\n",
       "\n",
       "mpl.figure.prototype._root_extra_style = function (_canvas_div) {};\n",
       "\n",
       "mpl.figure.prototype._init_canvas = function () {\n",
       "    var fig = this;\n",
       "\n",
       "    var canvas_div = (this.canvas_div = document.createElement('div'));\n",
       "    canvas_div.setAttribute(\n",
       "        'style',\n",
       "        'border: 1px solid #ddd;' +\n",
       "            'box-sizing: content-box;' +\n",
       "            'clear: both;' +\n",
       "            'min-height: 1px;' +\n",
       "            'min-width: 1px;' +\n",
       "            'outline: 0;' +\n",
       "            'overflow: hidden;' +\n",
       "            'position: relative;' +\n",
       "            'resize: both;'\n",
       "    );\n",
       "\n",
       "    function on_keyboard_event_closure(name) {\n",
       "        return function (event) {\n",
       "            return fig.key_event(event, name);\n",
       "        };\n",
       "    }\n",
       "\n",
       "    canvas_div.addEventListener(\n",
       "        'keydown',\n",
       "        on_keyboard_event_closure('key_press')\n",
       "    );\n",
       "    canvas_div.addEventListener(\n",
       "        'keyup',\n",
       "        on_keyboard_event_closure('key_release')\n",
       "    );\n",
       "\n",
       "    this._canvas_extra_style(canvas_div);\n",
       "    this.root.appendChild(canvas_div);\n",
       "\n",
       "    var canvas = (this.canvas = document.createElement('canvas'));\n",
       "    canvas.classList.add('mpl-canvas');\n",
       "    canvas.setAttribute('style', 'box-sizing: content-box;');\n",
       "\n",
       "    this.context = canvas.getContext('2d');\n",
       "\n",
       "    var backingStore =\n",
       "        this.context.backingStorePixelRatio ||\n",
       "        this.context.webkitBackingStorePixelRatio ||\n",
       "        this.context.mozBackingStorePixelRatio ||\n",
       "        this.context.msBackingStorePixelRatio ||\n",
       "        this.context.oBackingStorePixelRatio ||\n",
       "        this.context.backingStorePixelRatio ||\n",
       "        1;\n",
       "\n",
       "    this.ratio = (window.devicePixelRatio || 1) / backingStore;\n",
       "\n",
       "    var rubberband_canvas = (this.rubberband_canvas = document.createElement(\n",
       "        'canvas'\n",
       "    ));\n",
       "    rubberband_canvas.setAttribute(\n",
       "        'style',\n",
       "        'box-sizing: content-box; position: absolute; left: 0; top: 0; z-index: 1;'\n",
       "    );\n",
       "\n",
       "    // Apply a ponyfill if ResizeObserver is not implemented by browser.\n",
       "    if (this.ResizeObserver === undefined) {\n",
       "        if (window.ResizeObserver !== undefined) {\n",
       "            this.ResizeObserver = window.ResizeObserver;\n",
       "        } else {\n",
       "            var obs = _JSXTOOLS_RESIZE_OBSERVER({});\n",
       "            this.ResizeObserver = obs.ResizeObserver;\n",
       "        }\n",
       "    }\n",
       "\n",
       "    this.resizeObserverInstance = new this.ResizeObserver(function (entries) {\n",
       "        var nentries = entries.length;\n",
       "        for (var i = 0; i < nentries; i++) {\n",
       "            var entry = entries[i];\n",
       "            var width, height;\n",
       "            if (entry.contentBoxSize) {\n",
       "                if (entry.contentBoxSize instanceof Array) {\n",
       "                    // Chrome 84 implements new version of spec.\n",
       "                    width = entry.contentBoxSize[0].inlineSize;\n",
       "                    height = entry.contentBoxSize[0].blockSize;\n",
       "                } else {\n",
       "                    // Firefox implements old version of spec.\n",
       "                    width = entry.contentBoxSize.inlineSize;\n",
       "                    height = entry.contentBoxSize.blockSize;\n",
       "                }\n",
       "            } else {\n",
       "                // Chrome <84 implements even older version of spec.\n",
       "                width = entry.contentRect.width;\n",
       "                height = entry.contentRect.height;\n",
       "            }\n",
       "\n",
       "            // Keep the size of the canvas and rubber band canvas in sync with\n",
       "            // the canvas container.\n",
       "            if (entry.devicePixelContentBoxSize) {\n",
       "                // Chrome 84 implements new version of spec.\n",
       "                canvas.setAttribute(\n",
       "                    'width',\n",
       "                    entry.devicePixelContentBoxSize[0].inlineSize\n",
       "                );\n",
       "                canvas.setAttribute(\n",
       "                    'height',\n",
       "                    entry.devicePixelContentBoxSize[0].blockSize\n",
       "                );\n",
       "            } else {\n",
       "                canvas.setAttribute('width', width * fig.ratio);\n",
       "                canvas.setAttribute('height', height * fig.ratio);\n",
       "            }\n",
       "            canvas.setAttribute(\n",
       "                'style',\n",
       "                'width: ' + width + 'px; height: ' + height + 'px;'\n",
       "            );\n",
       "\n",
       "            rubberband_canvas.setAttribute('width', width);\n",
       "            rubberband_canvas.setAttribute('height', height);\n",
       "\n",
       "            // And update the size in Python. We ignore the initial 0/0 size\n",
       "            // that occurs as the element is placed into the DOM, which should\n",
       "            // otherwise not happen due to the minimum size styling.\n",
       "            if (fig.ws.readyState == 1 && width != 0 && height != 0) {\n",
       "                fig.request_resize(width, height);\n",
       "            }\n",
       "        }\n",
       "    });\n",
       "    this.resizeObserverInstance.observe(canvas_div);\n",
       "\n",
       "    function on_mouse_event_closure(name) {\n",
       "        return function (event) {\n",
       "            return fig.mouse_event(event, name);\n",
       "        };\n",
       "    }\n",
       "\n",
       "    rubberband_canvas.addEventListener(\n",
       "        'mousedown',\n",
       "        on_mouse_event_closure('button_press')\n",
       "    );\n",
       "    rubberband_canvas.addEventListener(\n",
       "        'mouseup',\n",
       "        on_mouse_event_closure('button_release')\n",
       "    );\n",
       "    rubberband_canvas.addEventListener(\n",
       "        'dblclick',\n",
       "        on_mouse_event_closure('dblclick')\n",
       "    );\n",
       "    // Throttle sequential mouse events to 1 every 20ms.\n",
       "    rubberband_canvas.addEventListener(\n",
       "        'mousemove',\n",
       "        on_mouse_event_closure('motion_notify')\n",
       "    );\n",
       "\n",
       "    rubberband_canvas.addEventListener(\n",
       "        'mouseenter',\n",
       "        on_mouse_event_closure('figure_enter')\n",
       "    );\n",
       "    rubberband_canvas.addEventListener(\n",
       "        'mouseleave',\n",
       "        on_mouse_event_closure('figure_leave')\n",
       "    );\n",
       "\n",
       "    canvas_div.addEventListener('wheel', function (event) {\n",
       "        if (event.deltaY < 0) {\n",
       "            event.step = 1;\n",
       "        } else {\n",
       "            event.step = -1;\n",
       "        }\n",
       "        on_mouse_event_closure('scroll')(event);\n",
       "    });\n",
       "\n",
       "    canvas_div.appendChild(canvas);\n",
       "    canvas_div.appendChild(rubberband_canvas);\n",
       "\n",
       "    this.rubberband_context = rubberband_canvas.getContext('2d');\n",
       "    this.rubberband_context.strokeStyle = '#000000';\n",
       "\n",
       "    this._resize_canvas = function (width, height, forward) {\n",
       "        if (forward) {\n",
       "            canvas_div.style.width = width + 'px';\n",
       "            canvas_div.style.height = height + 'px';\n",
       "        }\n",
       "    };\n",
       "\n",
       "    // Disable right mouse context menu.\n",
       "    this.rubberband_canvas.addEventListener('contextmenu', function (_e) {\n",
       "        event.preventDefault();\n",
       "        return false;\n",
       "    });\n",
       "\n",
       "    function set_focus() {\n",
       "        canvas.focus();\n",
       "        canvas_div.focus();\n",
       "    }\n",
       "\n",
       "    window.setTimeout(set_focus, 100);\n",
       "};\n",
       "\n",
       "mpl.figure.prototype._init_toolbar = function () {\n",
       "    var fig = this;\n",
       "\n",
       "    var toolbar = document.createElement('div');\n",
       "    toolbar.classList = 'mpl-toolbar';\n",
       "    this.root.appendChild(toolbar);\n",
       "\n",
       "    function on_click_closure(name) {\n",
       "        return function (_event) {\n",
       "            return fig.toolbar_button_onclick(name);\n",
       "        };\n",
       "    }\n",
       "\n",
       "    function on_mouseover_closure(tooltip) {\n",
       "        return function (event) {\n",
       "            if (!event.currentTarget.disabled) {\n",
       "                return fig.toolbar_button_onmouseover(tooltip);\n",
       "            }\n",
       "        };\n",
       "    }\n",
       "\n",
       "    fig.buttons = {};\n",
       "    var buttonGroup = document.createElement('div');\n",
       "    buttonGroup.classList = 'mpl-button-group';\n",
       "    for (var toolbar_ind in mpl.toolbar_items) {\n",
       "        var name = mpl.toolbar_items[toolbar_ind][0];\n",
       "        var tooltip = mpl.toolbar_items[toolbar_ind][1];\n",
       "        var image = mpl.toolbar_items[toolbar_ind][2];\n",
       "        var method_name = mpl.toolbar_items[toolbar_ind][3];\n",
       "\n",
       "        if (!name) {\n",
       "            /* Instead of a spacer, we start a new button group. */\n",
       "            if (buttonGroup.hasChildNodes()) {\n",
       "                toolbar.appendChild(buttonGroup);\n",
       "            }\n",
       "            buttonGroup = document.createElement('div');\n",
       "            buttonGroup.classList = 'mpl-button-group';\n",
       "            continue;\n",
       "        }\n",
       "\n",
       "        var button = (fig.buttons[name] = document.createElement('button'));\n",
       "        button.classList = 'mpl-widget';\n",
       "        button.setAttribute('role', 'button');\n",
       "        button.setAttribute('aria-disabled', 'false');\n",
       "        button.addEventListener('click', on_click_closure(method_name));\n",
       "        button.addEventListener('mouseover', on_mouseover_closure(tooltip));\n",
       "\n",
       "        var icon_img = document.createElement('img');\n",
       "        icon_img.src = '_images/' + image + '.png';\n",
       "        icon_img.srcset = '_images/' + image + '_large.png 2x';\n",
       "        icon_img.alt = tooltip;\n",
       "        button.appendChild(icon_img);\n",
       "\n",
       "        buttonGroup.appendChild(button);\n",
       "    }\n",
       "\n",
       "    if (buttonGroup.hasChildNodes()) {\n",
       "        toolbar.appendChild(buttonGroup);\n",
       "    }\n",
       "\n",
       "    var fmt_picker = document.createElement('select');\n",
       "    fmt_picker.classList = 'mpl-widget';\n",
       "    toolbar.appendChild(fmt_picker);\n",
       "    this.format_dropdown = fmt_picker;\n",
       "\n",
       "    for (var ind in mpl.extensions) {\n",
       "        var fmt = mpl.extensions[ind];\n",
       "        var option = document.createElement('option');\n",
       "        option.selected = fmt === mpl.default_extension;\n",
       "        option.innerHTML = fmt;\n",
       "        fmt_picker.appendChild(option);\n",
       "    }\n",
       "\n",
       "    var status_bar = document.createElement('span');\n",
       "    status_bar.classList = 'mpl-message';\n",
       "    toolbar.appendChild(status_bar);\n",
       "    this.message = status_bar;\n",
       "};\n",
       "\n",
       "mpl.figure.prototype.request_resize = function (x_pixels, y_pixels) {\n",
       "    // Request matplotlib to resize the figure. Matplotlib will then trigger a resize in the client,\n",
       "    // which will in turn request a refresh of the image.\n",
       "    this.send_message('resize', { width: x_pixels, height: y_pixels });\n",
       "};\n",
       "\n",
       "mpl.figure.prototype.send_message = function (type, properties) {\n",
       "    properties['type'] = type;\n",
       "    properties['figure_id'] = this.id;\n",
       "    this.ws.send(JSON.stringify(properties));\n",
       "};\n",
       "\n",
       "mpl.figure.prototype.send_draw_message = function () {\n",
       "    if (!this.waiting) {\n",
       "        this.waiting = true;\n",
       "        this.ws.send(JSON.stringify({ type: 'draw', figure_id: this.id }));\n",
       "    }\n",
       "};\n",
       "\n",
       "mpl.figure.prototype.handle_save = function (fig, _msg) {\n",
       "    var format_dropdown = fig.format_dropdown;\n",
       "    var format = format_dropdown.options[format_dropdown.selectedIndex].value;\n",
       "    fig.ondownload(fig, format);\n",
       "};\n",
       "\n",
       "mpl.figure.prototype.handle_resize = function (fig, msg) {\n",
       "    var size = msg['size'];\n",
       "    if (size[0] !== fig.canvas.width || size[1] !== fig.canvas.height) {\n",
       "        fig._resize_canvas(size[0], size[1], msg['forward']);\n",
       "        fig.send_message('refresh', {});\n",
       "    }\n",
       "};\n",
       "\n",
       "mpl.figure.prototype.handle_rubberband = function (fig, msg) {\n",
       "    var x0 = msg['x0'] / fig.ratio;\n",
       "    var y0 = (fig.canvas.height - msg['y0']) / fig.ratio;\n",
       "    var x1 = msg['x1'] / fig.ratio;\n",
       "    var y1 = (fig.canvas.height - msg['y1']) / fig.ratio;\n",
       "    x0 = Math.floor(x0) + 0.5;\n",
       "    y0 = Math.floor(y0) + 0.5;\n",
       "    x1 = Math.floor(x1) + 0.5;\n",
       "    y1 = Math.floor(y1) + 0.5;\n",
       "    var min_x = Math.min(x0, x1);\n",
       "    var min_y = Math.min(y0, y1);\n",
       "    var width = Math.abs(x1 - x0);\n",
       "    var height = Math.abs(y1 - y0);\n",
       "\n",
       "    fig.rubberband_context.clearRect(\n",
       "        0,\n",
       "        0,\n",
       "        fig.canvas.width / fig.ratio,\n",
       "        fig.canvas.height / fig.ratio\n",
       "    );\n",
       "\n",
       "    fig.rubberband_context.strokeRect(min_x, min_y, width, height);\n",
       "};\n",
       "\n",
       "mpl.figure.prototype.handle_figure_label = function (fig, msg) {\n",
       "    // Updates the figure title.\n",
       "    fig.header.textContent = msg['label'];\n",
       "};\n",
       "\n",
       "mpl.figure.prototype.handle_cursor = function (fig, msg) {\n",
       "    var cursor = msg['cursor'];\n",
       "    switch (cursor) {\n",
       "        case 0:\n",
       "            cursor = 'pointer';\n",
       "            break;\n",
       "        case 1:\n",
       "            cursor = 'default';\n",
       "            break;\n",
       "        case 2:\n",
       "            cursor = 'crosshair';\n",
       "            break;\n",
       "        case 3:\n",
       "            cursor = 'move';\n",
       "            break;\n",
       "    }\n",
       "    fig.rubberband_canvas.style.cursor = cursor;\n",
       "};\n",
       "\n",
       "mpl.figure.prototype.handle_message = function (fig, msg) {\n",
       "    fig.message.textContent = msg['message'];\n",
       "};\n",
       "\n",
       "mpl.figure.prototype.handle_draw = function (fig, _msg) {\n",
       "    // Request the server to send over a new figure.\n",
       "    fig.send_draw_message();\n",
       "};\n",
       "\n",
       "mpl.figure.prototype.handle_image_mode = function (fig, msg) {\n",
       "    fig.image_mode = msg['mode'];\n",
       "};\n",
       "\n",
       "mpl.figure.prototype.handle_history_buttons = function (fig, msg) {\n",
       "    for (var key in msg) {\n",
       "        if (!(key in fig.buttons)) {\n",
       "            continue;\n",
       "        }\n",
       "        fig.buttons[key].disabled = !msg[key];\n",
       "        fig.buttons[key].setAttribute('aria-disabled', !msg[key]);\n",
       "    }\n",
       "};\n",
       "\n",
       "mpl.figure.prototype.handle_navigate_mode = function (fig, msg) {\n",
       "    if (msg['mode'] === 'PAN') {\n",
       "        fig.buttons['Pan'].classList.add('active');\n",
       "        fig.buttons['Zoom'].classList.remove('active');\n",
       "    } else if (msg['mode'] === 'ZOOM') {\n",
       "        fig.buttons['Pan'].classList.remove('active');\n",
       "        fig.buttons['Zoom'].classList.add('active');\n",
       "    } else {\n",
       "        fig.buttons['Pan'].classList.remove('active');\n",
       "        fig.buttons['Zoom'].classList.remove('active');\n",
       "    }\n",
       "};\n",
       "\n",
       "mpl.figure.prototype.updated_canvas_event = function () {\n",
       "    // Called whenever the canvas gets updated.\n",
       "    this.send_message('ack', {});\n",
       "};\n",
       "\n",
       "// A function to construct a web socket function for onmessage handling.\n",
       "// Called in the figure constructor.\n",
       "mpl.figure.prototype._make_on_message_function = function (fig) {\n",
       "    return function socket_on_message(evt) {\n",
       "        if (evt.data instanceof Blob) {\n",
       "            var img = evt.data;\n",
       "            if (img.type !== 'image/png') {\n",
       "                /* FIXME: We get \"Resource interpreted as Image but\n",
       "                 * transferred with MIME type text/plain:\" errors on\n",
       "                 * Chrome.  But how to set the MIME type?  It doesn't seem\n",
       "                 * to be part of the websocket stream */\n",
       "                img.type = 'image/png';\n",
       "            }\n",
       "\n",
       "            /* Free the memory for the previous frames */\n",
       "            if (fig.imageObj.src) {\n",
       "                (window.URL || window.webkitURL).revokeObjectURL(\n",
       "                    fig.imageObj.src\n",
       "                );\n",
       "            }\n",
       "\n",
       "            fig.imageObj.src = (window.URL || window.webkitURL).createObjectURL(\n",
       "                img\n",
       "            );\n",
       "            fig.updated_canvas_event();\n",
       "            fig.waiting = false;\n",
       "            return;\n",
       "        } else if (\n",
       "            typeof evt.data === 'string' &&\n",
       "            evt.data.slice(0, 21) === 'data:image/png;base64'\n",
       "        ) {\n",
       "            fig.imageObj.src = evt.data;\n",
       "            fig.updated_canvas_event();\n",
       "            fig.waiting = false;\n",
       "            return;\n",
       "        }\n",
       "\n",
       "        var msg = JSON.parse(evt.data);\n",
       "        var msg_type = msg['type'];\n",
       "\n",
       "        // Call the  \"handle_{type}\" callback, which takes\n",
       "        // the figure and JSON message as its only arguments.\n",
       "        try {\n",
       "            var callback = fig['handle_' + msg_type];\n",
       "        } catch (e) {\n",
       "            console.log(\n",
       "                \"No handler for the '\" + msg_type + \"' message type: \",\n",
       "                msg\n",
       "            );\n",
       "            return;\n",
       "        }\n",
       "\n",
       "        if (callback) {\n",
       "            try {\n",
       "                // console.log(\"Handling '\" + msg_type + \"' message: \", msg);\n",
       "                callback(fig, msg);\n",
       "            } catch (e) {\n",
       "                console.log(\n",
       "                    \"Exception inside the 'handler_\" + msg_type + \"' callback:\",\n",
       "                    e,\n",
       "                    e.stack,\n",
       "                    msg\n",
       "                );\n",
       "            }\n",
       "        }\n",
       "    };\n",
       "};\n",
       "\n",
       "// from http://stackoverflow.com/questions/1114465/getting-mouse-location-in-canvas\n",
       "mpl.findpos = function (e) {\n",
       "    //this section is from http://www.quirksmode.org/js/events_properties.html\n",
       "    var targ;\n",
       "    if (!e) {\n",
       "        e = window.event;\n",
       "    }\n",
       "    if (e.target) {\n",
       "        targ = e.target;\n",
       "    } else if (e.srcElement) {\n",
       "        targ = e.srcElement;\n",
       "    }\n",
       "    if (targ.nodeType === 3) {\n",
       "        // defeat Safari bug\n",
       "        targ = targ.parentNode;\n",
       "    }\n",
       "\n",
       "    // pageX,Y are the mouse positions relative to the document\n",
       "    var boundingRect = targ.getBoundingClientRect();\n",
       "    var x = e.pageX - (boundingRect.left + document.body.scrollLeft);\n",
       "    var y = e.pageY - (boundingRect.top + document.body.scrollTop);\n",
       "\n",
       "    return { x: x, y: y };\n",
       "};\n",
       "\n",
       "/*\n",
       " * return a copy of an object with only non-object keys\n",
       " * we need this to avoid circular references\n",
       " * http://stackoverflow.com/a/24161582/3208463\n",
       " */\n",
       "function simpleKeys(original) {\n",
       "    return Object.keys(original).reduce(function (obj, key) {\n",
       "        if (typeof original[key] !== 'object') {\n",
       "            obj[key] = original[key];\n",
       "        }\n",
       "        return obj;\n",
       "    }, {});\n",
       "}\n",
       "\n",
       "mpl.figure.prototype.mouse_event = function (event, name) {\n",
       "    var canvas_pos = mpl.findpos(event);\n",
       "\n",
       "    if (name === 'button_press') {\n",
       "        this.canvas.focus();\n",
       "        this.canvas_div.focus();\n",
       "    }\n",
       "\n",
       "    var x = canvas_pos.x * this.ratio;\n",
       "    var y = canvas_pos.y * this.ratio;\n",
       "\n",
       "    this.send_message(name, {\n",
       "        x: x,\n",
       "        y: y,\n",
       "        button: event.button,\n",
       "        step: event.step,\n",
       "        guiEvent: simpleKeys(event),\n",
       "    });\n",
       "\n",
       "    /* This prevents the web browser from automatically changing to\n",
       "     * the text insertion cursor when the button is pressed.  We want\n",
       "     * to control all of the cursor setting manually through the\n",
       "     * 'cursor' event from matplotlib */\n",
       "    event.preventDefault();\n",
       "    return false;\n",
       "};\n",
       "\n",
       "mpl.figure.prototype._key_event_extra = function (_event, _name) {\n",
       "    // Handle any extra behaviour associated with a key event\n",
       "};\n",
       "\n",
       "mpl.figure.prototype.key_event = function (event, name) {\n",
       "    // Prevent repeat events\n",
       "    if (name === 'key_press') {\n",
       "        if (event.key === this._key) {\n",
       "            return;\n",
       "        } else {\n",
       "            this._key = event.key;\n",
       "        }\n",
       "    }\n",
       "    if (name === 'key_release') {\n",
       "        this._key = null;\n",
       "    }\n",
       "\n",
       "    var value = '';\n",
       "    if (event.ctrlKey && event.key !== 'Control') {\n",
       "        value += 'ctrl+';\n",
       "    }\n",
       "    else if (event.altKey && event.key !== 'Alt') {\n",
       "        value += 'alt+';\n",
       "    }\n",
       "    else if (event.shiftKey && event.key !== 'Shift') {\n",
       "        value += 'shift+';\n",
       "    }\n",
       "\n",
       "    value += 'k' + event.key;\n",
       "\n",
       "    this._key_event_extra(event, name);\n",
       "\n",
       "    this.send_message(name, { key: value, guiEvent: simpleKeys(event) });\n",
       "    return false;\n",
       "};\n",
       "\n",
       "mpl.figure.prototype.toolbar_button_onclick = function (name) {\n",
       "    if (name === 'download') {\n",
       "        this.handle_save(this, null);\n",
       "    } else {\n",
       "        this.send_message('toolbar_button', { name: name });\n",
       "    }\n",
       "};\n",
       "\n",
       "mpl.figure.prototype.toolbar_button_onmouseover = function (tooltip) {\n",
       "    this.message.textContent = tooltip;\n",
       "};\n",
       "\n",
       "///////////////// REMAINING CONTENT GENERATED BY embed_js.py /////////////////\n",
       "// prettier-ignore\n",
       "var _JSXTOOLS_RESIZE_OBSERVER=function(A){var t,i=new WeakMap,n=new WeakMap,a=new WeakMap,r=new WeakMap,o=new Set;function s(e){if(!(this instanceof s))throw new TypeError(\"Constructor requires 'new' operator\");i.set(this,e)}function h(){throw new TypeError(\"Function is not a constructor\")}function c(e,t,i,n){e=0 in arguments?Number(arguments[0]):0,t=1 in arguments?Number(arguments[1]):0,i=2 in arguments?Number(arguments[2]):0,n=3 in arguments?Number(arguments[3]):0,this.right=(this.x=this.left=e)+(this.width=i),this.bottom=(this.y=this.top=t)+(this.height=n),Object.freeze(this)}function d(){t=requestAnimationFrame(d);var s=new WeakMap,p=new Set;o.forEach((function(t){r.get(t).forEach((function(i){var r=t instanceof window.SVGElement,o=a.get(t),d=r?0:parseFloat(o.paddingTop),f=r?0:parseFloat(o.paddingRight),l=r?0:parseFloat(o.paddingBottom),u=r?0:parseFloat(o.paddingLeft),g=r?0:parseFloat(o.borderTopWidth),m=r?0:parseFloat(o.borderRightWidth),w=r?0:parseFloat(o.borderBottomWidth),b=u+f,F=d+l,v=(r?0:parseFloat(o.borderLeftWidth))+m,W=g+w,y=r?0:t.offsetHeight-W-t.clientHeight,E=r?0:t.offsetWidth-v-t.clientWidth,R=b+v,z=F+W,M=r?t.width:parseFloat(o.width)-R-E,O=r?t.height:parseFloat(o.height)-z-y;if(n.has(t)){var k=n.get(t);if(k[0]===M&&k[1]===O)return}n.set(t,[M,O]);var S=Object.create(h.prototype);S.target=t,S.contentRect=new c(u,d,M,O),s.has(i)||(s.set(i,[]),p.add(i)),s.get(i).push(S)}))})),p.forEach((function(e){i.get(e).call(e,s.get(e),e)}))}return s.prototype.observe=function(i){if(i instanceof window.Element){r.has(i)||(r.set(i,new Set),o.add(i),a.set(i,window.getComputedStyle(i)));var n=r.get(i);n.has(this)||n.add(this),cancelAnimationFrame(t),t=requestAnimationFrame(d)}},s.prototype.unobserve=function(i){if(i instanceof window.Element&&r.has(i)){var n=r.get(i);n.has(this)&&(n.delete(this),n.size||(r.delete(i),o.delete(i))),n.size||r.delete(i),o.size||cancelAnimationFrame(t)}},A.DOMRectReadOnly=c,A.ResizeObserver=s,A.ResizeObserverEntry=h,A}; // eslint-disable-line\n",
       "mpl.toolbar_items = [[\"Home\", \"Reset original view\", \"fa fa-home icon-home\", \"home\"], [\"Back\", \"Back to previous view\", \"fa fa-arrow-left icon-arrow-left\", \"back\"], [\"Forward\", \"Forward to next view\", \"fa fa-arrow-right icon-arrow-right\", \"forward\"], [\"\", \"\", \"\", \"\"], [\"Pan\", \"Left button pans, Right button zooms\\nx/y fixes axis, CTRL fixes aspect\", \"fa fa-arrows icon-move\", \"pan\"], [\"Zoom\", \"Zoom to rectangle\\nx/y fixes axis, CTRL fixes aspect\", \"fa fa-square-o icon-check-empty\", \"zoom\"], [\"\", \"\", \"\", \"\"], [\"Download\", \"Download plot\", \"fa fa-floppy-o icon-save\", \"download\"]];\n",
       "\n",
       "mpl.extensions = [\"eps\", \"jpeg\", \"pgf\", \"pdf\", \"png\", \"ps\", \"raw\", \"svg\", \"tif\"];\n",
       "\n",
       "mpl.default_extension = \"png\";/* global mpl */\n",
       "\n",
       "var comm_websocket_adapter = function (comm) {\n",
       "    // Create a \"websocket\"-like object which calls the given IPython comm\n",
       "    // object with the appropriate methods. Currently this is a non binary\n",
       "    // socket, so there is still some room for performance tuning.\n",
       "    var ws = {};\n",
       "\n",
       "    ws.binaryType = comm.kernel.ws.binaryType;\n",
       "    ws.readyState = comm.kernel.ws.readyState;\n",
       "    function updateReadyState(_event) {\n",
       "        if (comm.kernel.ws) {\n",
       "            ws.readyState = comm.kernel.ws.readyState;\n",
       "        } else {\n",
       "            ws.readyState = 3; // Closed state.\n",
       "        }\n",
       "    }\n",
       "    comm.kernel.ws.addEventListener('open', updateReadyState);\n",
       "    comm.kernel.ws.addEventListener('close', updateReadyState);\n",
       "    comm.kernel.ws.addEventListener('error', updateReadyState);\n",
       "\n",
       "    ws.close = function () {\n",
       "        comm.close();\n",
       "    };\n",
       "    ws.send = function (m) {\n",
       "        //console.log('sending', m);\n",
       "        comm.send(m);\n",
       "    };\n",
       "    // Register the callback with on_msg.\n",
       "    comm.on_msg(function (msg) {\n",
       "        //console.log('receiving', msg['content']['data'], msg);\n",
       "        var data = msg['content']['data'];\n",
       "        if (data['blob'] !== undefined) {\n",
       "            data = {\n",
       "                data: new Blob(msg['buffers'], { type: data['blob'] }),\n",
       "            };\n",
       "        }\n",
       "        // Pass the mpl event to the overridden (by mpl) onmessage function.\n",
       "        ws.onmessage(data);\n",
       "    });\n",
       "    return ws;\n",
       "};\n",
       "\n",
       "mpl.mpl_figure_comm = function (comm, msg) {\n",
       "    // This is the function which gets called when the mpl process\n",
       "    // starts-up an IPython Comm through the \"matplotlib\" channel.\n",
       "\n",
       "    var id = msg.content.data.id;\n",
       "    // Get hold of the div created by the display call when the Comm\n",
       "    // socket was opened in Python.\n",
       "    var element = document.getElementById(id);\n",
       "    var ws_proxy = comm_websocket_adapter(comm);\n",
       "\n",
       "    function ondownload(figure, _format) {\n",
       "        window.open(figure.canvas.toDataURL());\n",
       "    }\n",
       "\n",
       "    var fig = new mpl.figure(id, ws_proxy, ondownload, element);\n",
       "\n",
       "    // Call onopen now - mpl needs it, as it is assuming we've passed it a real\n",
       "    // web socket which is closed, not our websocket->open comm proxy.\n",
       "    ws_proxy.onopen();\n",
       "\n",
       "    fig.parent_element = element;\n",
       "    fig.cell_info = mpl.find_output_cell(\"<div id='\" + id + \"'></div>\");\n",
       "    if (!fig.cell_info) {\n",
       "        console.error('Failed to find cell for figure', id, fig);\n",
       "        return;\n",
       "    }\n",
       "    fig.cell_info[0].output_area.element.on(\n",
       "        'cleared',\n",
       "        { fig: fig },\n",
       "        fig._remove_fig_handler\n",
       "    );\n",
       "};\n",
       "\n",
       "mpl.figure.prototype.handle_close = function (fig, msg) {\n",
       "    var width = fig.canvas.width / fig.ratio;\n",
       "    fig.cell_info[0].output_area.element.off(\n",
       "        'cleared',\n",
       "        fig._remove_fig_handler\n",
       "    );\n",
       "    fig.resizeObserverInstance.unobserve(fig.canvas_div);\n",
       "\n",
       "    // Update the output cell to use the data from the current canvas.\n",
       "    fig.push_to_output();\n",
       "    var dataURL = fig.canvas.toDataURL();\n",
       "    // Re-enable the keyboard manager in IPython - without this line, in FF,\n",
       "    // the notebook keyboard shortcuts fail.\n",
       "    IPython.keyboard_manager.enable();\n",
       "    fig.parent_element.innerHTML =\n",
       "        '<img src=\"' + dataURL + '\" width=\"' + width + '\">';\n",
       "    fig.close_ws(fig, msg);\n",
       "};\n",
       "\n",
       "mpl.figure.prototype.close_ws = function (fig, msg) {\n",
       "    fig.send_message('closing', msg);\n",
       "    // fig.ws.close()\n",
       "};\n",
       "\n",
       "mpl.figure.prototype.push_to_output = function (_remove_interactive) {\n",
       "    // Turn the data on the canvas into data in the output cell.\n",
       "    var width = this.canvas.width / this.ratio;\n",
       "    var dataURL = this.canvas.toDataURL();\n",
       "    this.cell_info[1]['text/html'] =\n",
       "        '<img src=\"' + dataURL + '\" width=\"' + width + '\">';\n",
       "};\n",
       "\n",
       "mpl.figure.prototype.updated_canvas_event = function () {\n",
       "    // Tell IPython that the notebook contents must change.\n",
       "    IPython.notebook.set_dirty(true);\n",
       "    this.send_message('ack', {});\n",
       "    var fig = this;\n",
       "    // Wait a second, then push the new image to the DOM so\n",
       "    // that it is saved nicely (might be nice to debounce this).\n",
       "    setTimeout(function () {\n",
       "        fig.push_to_output();\n",
       "    }, 1000);\n",
       "};\n",
       "\n",
       "mpl.figure.prototype._init_toolbar = function () {\n",
       "    var fig = this;\n",
       "\n",
       "    var toolbar = document.createElement('div');\n",
       "    toolbar.classList = 'btn-toolbar';\n",
       "    this.root.appendChild(toolbar);\n",
       "\n",
       "    function on_click_closure(name) {\n",
       "        return function (_event) {\n",
       "            return fig.toolbar_button_onclick(name);\n",
       "        };\n",
       "    }\n",
       "\n",
       "    function on_mouseover_closure(tooltip) {\n",
       "        return function (event) {\n",
       "            if (!event.currentTarget.disabled) {\n",
       "                return fig.toolbar_button_onmouseover(tooltip);\n",
       "            }\n",
       "        };\n",
       "    }\n",
       "\n",
       "    fig.buttons = {};\n",
       "    var buttonGroup = document.createElement('div');\n",
       "    buttonGroup.classList = 'btn-group';\n",
       "    var button;\n",
       "    for (var toolbar_ind in mpl.toolbar_items) {\n",
       "        var name = mpl.toolbar_items[toolbar_ind][0];\n",
       "        var tooltip = mpl.toolbar_items[toolbar_ind][1];\n",
       "        var image = mpl.toolbar_items[toolbar_ind][2];\n",
       "        var method_name = mpl.toolbar_items[toolbar_ind][3];\n",
       "\n",
       "        if (!name) {\n",
       "            /* Instead of a spacer, we start a new button group. */\n",
       "            if (buttonGroup.hasChildNodes()) {\n",
       "                toolbar.appendChild(buttonGroup);\n",
       "            }\n",
       "            buttonGroup = document.createElement('div');\n",
       "            buttonGroup.classList = 'btn-group';\n",
       "            continue;\n",
       "        }\n",
       "\n",
       "        button = fig.buttons[name] = document.createElement('button');\n",
       "        button.classList = 'btn btn-default';\n",
       "        button.href = '#';\n",
       "        button.title = name;\n",
       "        button.innerHTML = '<i class=\"fa ' + image + ' fa-lg\"></i>';\n",
       "        button.addEventListener('click', on_click_closure(method_name));\n",
       "        button.addEventListener('mouseover', on_mouseover_closure(tooltip));\n",
       "        buttonGroup.appendChild(button);\n",
       "    }\n",
       "\n",
       "    if (buttonGroup.hasChildNodes()) {\n",
       "        toolbar.appendChild(buttonGroup);\n",
       "    }\n",
       "\n",
       "    // Add the status bar.\n",
       "    var status_bar = document.createElement('span');\n",
       "    status_bar.classList = 'mpl-message pull-right';\n",
       "    toolbar.appendChild(status_bar);\n",
       "    this.message = status_bar;\n",
       "\n",
       "    // Add the close button to the window.\n",
       "    var buttongrp = document.createElement('div');\n",
       "    buttongrp.classList = 'btn-group inline pull-right';\n",
       "    button = document.createElement('button');\n",
       "    button.classList = 'btn btn-mini btn-primary';\n",
       "    button.href = '#';\n",
       "    button.title = 'Stop Interaction';\n",
       "    button.innerHTML = '<i class=\"fa fa-power-off icon-remove icon-large\"></i>';\n",
       "    button.addEventListener('click', function (_evt) {\n",
       "        fig.handle_close(fig, {});\n",
       "    });\n",
       "    button.addEventListener(\n",
       "        'mouseover',\n",
       "        on_mouseover_closure('Stop Interaction')\n",
       "    );\n",
       "    buttongrp.appendChild(button);\n",
       "    var titlebar = this.root.querySelector('.ui-dialog-titlebar');\n",
       "    titlebar.insertBefore(buttongrp, titlebar.firstChild);\n",
       "};\n",
       "\n",
       "mpl.figure.prototype._remove_fig_handler = function (event) {\n",
       "    var fig = event.data.fig;\n",
       "    if (event.target !== this) {\n",
       "        // Ignore bubbled events from children.\n",
       "        return;\n",
       "    }\n",
       "    fig.close_ws(fig, {});\n",
       "};\n",
       "\n",
       "mpl.figure.prototype._root_extra_style = function (el) {\n",
       "    el.style.boxSizing = 'content-box'; // override notebook setting of border-box.\n",
       "};\n",
       "\n",
       "mpl.figure.prototype._canvas_extra_style = function (el) {\n",
       "    // this is important to make the div 'focusable\n",
       "    el.setAttribute('tabindex', 0);\n",
       "    // reach out to IPython and tell the keyboard manager to turn it's self\n",
       "    // off when our div gets focus\n",
       "\n",
       "    // location in version 3\n",
       "    if (IPython.notebook.keyboard_manager) {\n",
       "        IPython.notebook.keyboard_manager.register_events(el);\n",
       "    } else {\n",
       "        // location in version 2\n",
       "        IPython.keyboard_manager.register_events(el);\n",
       "    }\n",
       "};\n",
       "\n",
       "mpl.figure.prototype._key_event_extra = function (event, _name) {\n",
       "    var manager = IPython.notebook.keyboard_manager;\n",
       "    if (!manager) {\n",
       "        manager = IPython.keyboard_manager;\n",
       "    }\n",
       "\n",
       "    // Check for shift+enter\n",
       "    if (event.shiftKey && event.which === 13) {\n",
       "        this.canvas_div.blur();\n",
       "        // select the cell after this one\n",
       "        var index = IPython.notebook.find_cell_index(this.cell_info[0]);\n",
       "        IPython.notebook.select(index + 1);\n",
       "    }\n",
       "};\n",
       "\n",
       "mpl.figure.prototype.handle_save = function (fig, _msg) {\n",
       "    fig.ondownload(fig, null);\n",
       "};\n",
       "\n",
       "mpl.find_output_cell = function (html_output) {\n",
       "    // Return the cell and output element which can be found *uniquely* in the notebook.\n",
       "    // Note - this is a bit hacky, but it is done because the \"notebook_saving.Notebook\"\n",
       "    // IPython event is triggered only after the cells have been serialised, which for\n",
       "    // our purposes (turning an active figure into a static one), is too late.\n",
       "    var cells = IPython.notebook.get_cells();\n",
       "    var ncells = cells.length;\n",
       "    for (var i = 0; i < ncells; i++) {\n",
       "        var cell = cells[i];\n",
       "        if (cell.cell_type === 'code') {\n",
       "            for (var j = 0; j < cell.output_area.outputs.length; j++) {\n",
       "                var data = cell.output_area.outputs[j];\n",
       "                if (data.data) {\n",
       "                    // IPython >= 3 moved mimebundle to data attribute of output\n",
       "                    data = data.data;\n",
       "                }\n",
       "                if (data['text/html'] === html_output) {\n",
       "                    return [cell, data, j];\n",
       "                }\n",
       "            }\n",
       "        }\n",
       "    }\n",
       "};\n",
       "\n",
       "// Register the function which deals with the matplotlib target/channel.\n",
       "// The kernel may be null if the page has been refreshed.\n",
       "if (IPython.notebook.kernel !== null) {\n",
       "    IPython.notebook.kernel.comm_manager.register_target(\n",
       "        'matplotlib',\n",
       "        mpl.mpl_figure_comm\n",
       "    );\n",
       "}\n"
      ],
      "text/plain": [
       "<IPython.core.display.Javascript object>"
      ]
     },
     "metadata": {},
     "output_type": "display_data"
    },
    {
     "data": {
      "text/html": [
       "<img src=\"data:image/png;base64,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\" width=\"848\">"
      ],
      "text/plain": [
       "<IPython.core.display.HTML object>"
      ]
     },
     "metadata": {},
     "output_type": "display_data"
    }
   ],
   "source": [
    "#Now you can plot the data :)\n",
    "%matplotlib notebook\n",
    "data.scatter()"
   ]
  },
  {
   "cell_type": "code",
   "execution_count": 7,
   "id": "742ff1ad",
   "metadata": {
    "pycharm": {
     "name": "#%%\n"
    }
   },
   "outputs": [
    {
     "name": "stderr",
     "output_type": "stream",
     "text": [
      "/Users/marco/Documents/code/science/Brite-Decorrelation-Codes/venv/lib/python3.7/site-packages/erfa/core.py:155: ErfaWarning: ERFA function \"utctai\" yielded 1 of \"dubious year (Note 3)\"\n",
      "  ErfaWarning)\n",
      "/Users/marco/Documents/code/science/Brite-Decorrelation-Codes/venv/lib/python3.7/site-packages/erfa/core.py:155: ErfaWarning: ERFA function \"utctai\" yielded 9246 of \"dubious year (Note 3)\"\n",
      "  ErfaWarning)\n"
     ]
    },
    {
     "data": {
      "text/plain": [
       "<AxesSubplot:xlabel='Frequency [$\\\\mathrm{\\\\frac{1}{d}}$]', ylabel='Power [$\\\\mathrm{mag}$]'>"
      ]
     },
     "execution_count": 7,
     "metadata": {},
     "output_type": "execute_result"
    },
    {
     "data": {
      "image/png": "[encoded data removed]",
      "text/plain": [
       "<Figure size 848.5x400 with 1 Axes>"
      ]
     },
     "metadata": {},
     "output_type": "display_data"
    }
   ],
   "source": [
    "#You can also convert any given lightcurve into a periodogram\n",
    "data.to_periodogram().plot()"
   ]
  },
  {
   "cell_type": "code",
   "execution_count": 8,
   "id": "9885ed8a",
   "metadata": {},
   "outputs": [
    {
     "name": "stderr",
     "output_type": "stream",
     "text": [
      "/Users/marco/Documents/code/science/Brite-Decorrelation-Codes/venv/lib/python3.7/site-packages/erfa/core.py:155: ErfaWarning: ERFA function \"utctai\" yielded 1 of \"dubious year (Note 3)\"\n",
      "  ErfaWarning)\n",
      "/Users/marco/Documents/code/science/Brite-Decorrelation-Codes/venv/lib/python3.7/site-packages/erfa/core.py:155: ErfaWarning: ERFA function \"utctai\" yielded 9246 of \"dubious year (Note 3)\"\n",
      "  ErfaWarning)\n"
     ]
    },
    {
     "name": "stdout",
     "output_type": "stream",
     "text": [
      "lightkurve.Periodogram properties:\n",
      "      Attribute                   Description            Units\n",
      "---------------------- --------------------------------- -----\n",
      "                nterms                                 1      \n",
      "          default_view                         frequency      \n",
      "             ls_method                              fast      \n",
      "frequency_at_max_power                             1.238 1 / d\n",
      "             max_power                            0.0331   mag\n",
      "               nyquist                         2127.6596 1 / d\n",
      "   period_at_max_power                            0.8077     d\n",
      "             frequency                   array (132329,) 1 / d\n",
      "                period                   array (132329,)     d\n",
      "                 power                   array (132329,)   mag\n",
      "                 label                <class 'NoneType'>      \n",
      "                  meta <class 'collections.OrderedDict'>      \n",
      "              targetid                <class 'NoneType'>      \n"
     ]
    }
   ],
   "source": [
    "#You can also easily find out some basic information about any given periodogram\n",
    "# by using the show_properties function\n",
    "data.to_periodogram().show_properties()\n"
   ]
  },
  {
   "cell_type": "markdown",
   "id": "9c8412b5",
   "metadata": {
    "pycharm": {
     "name": "#%%\n"
    }
   },
   "source": []
  },
  {
   "cell_type": "code",
   "execution_count": 9,
   "id": "fd48db51",
   "metadata": {},
   "outputs": [
    {
     "data": {
      "text/html": [
       "<div><i>Table length=1</i>\n",
       "<table id=\"table5490854032\" class=\"table-striped table-bordered table-condensed\">\n",
       "<thead><tr><th>MAIN_ID</th><th>RA</th><th>DEC</th><th>RA_PREC</th><th>DEC_PREC</th><th>COO_ERR_MAJA</th><th>COO_ERR_MINA</th><th>COO_ERR_ANGLE</th><th>COO_QUAL</th><th>COO_WAVELENGTH</th><th>COO_BIBCODE</th><th>OTYPE</th><th>SP_TYPE</th><th>SCRIPT_NUMBER_ID</th></tr></thead>\n",
       "<thead><tr><th></th><th>&quot;h:m:s&quot;</th><th>&quot;d:m:s&quot;</th><th></th><th></th><th>mas</th><th>mas</th><th>deg</th><th></th><th></th><th></th><th></th><th></th><th></th></tr></thead>\n",
       "<thead><tr><th>object</th><th>str13</th><th>str13</th><th>int16</th><th>int16</th><th>float32</th><th>float32</th><th>int16</th><th>str1</th><th>str1</th><th>object</th><th>object</th><th>object</th><th>int32</th></tr></thead>\n",
       "<tr><td>*  43 Cyg</td><td>20 27 02.2677</td><td>+49 23 00.097</td><td>14</td><td>14</td><td>0.052</td><td>0.065</td><td>90</td><td>A</td><td>O</td><td>2018yCat.1345....0G</td><td>gammaDor</td><td>F0V:</td><td>1</td></tr>\n",
       "</table></div>"
      ],
      "text/plain": [
       "<Table length=1>\n",
       " MAIN_ID        RA           DEC      RA_PREC DEC_PREC COO_ERR_MAJA COO_ERR_MINA COO_ERR_ANGLE COO_QUAL COO_WAVELENGTH     COO_BIBCODE      OTYPE   SP_TYPE SCRIPT_NUMBER_ID\n",
       "             \"h:m:s\"       \"d:m:s\"                         mas          mas           deg                                                                                   \n",
       "  object      str13         str13      int16   int16     float32      float32        int16       str1        str1             object        object   object      int32      \n",
       "--------- ------------- ------------- ------- -------- ------------ ------------ ------------- -------- -------------- ------------------- -------- ------- ----------------\n",
       "*  43 Cyg 20 27 02.2677 +49 23 00.097      14       14        0.052        0.065            90        A              O 2018yCat.1345....0G gammaDor    F0V:                1"
      ]
     },
     "execution_count": 9,
     "metadata": {},
     "output_type": "execute_result"
    }
   ],
   "source": [
    "#You can also take a look at simbad for any given star\n",
    "star.simbad"
   ]
  },
  {
   "cell_type": "code",
   "execution_count": 28,
   "id": "b383c9f2",
   "metadata": {},
   "outputs": [
    {
     "data": {
      "text/plain": [
       "('gammaDor', 'F0V:')"
      ]
     },
     "execution_count": 28,
     "metadata": {},
     "output_type": "execute_result"
    }
   ],
   "source": [
    "#get the star type from simbad and spectral type\n",
    "star.simbad['OTYPE'].value[0],star.simbad['SP_TYPE'].value[0]"
   ]
  },
  {
   "cell_type": "code",
   "execution_count": 10,
   "id": "74fc3d8c",
   "metadata": {},
   "outputs": [
    {
     "data": {
      "text/plain": [
       "0.02901475488307161"
      ]
     },
     "execution_count": 10,
     "metadata": {},
     "output_type": "execute_result"
    }
   ],
   "source": [
    "#Resulting RMS for a star\n",
    "data.rms"
   ]
  },
  {
   "cell_type": "code",
   "execution_count": 11,
   "id": "dd42da0c",
   "metadata": {},
   "outputs": [
    {
     "data": {
      "text/plain": [
       "0.01424506695368165"
      ]
     },
     "execution_count": 11,
     "metadata": {},
     "output_type": "execute_result"
    }
   ],
   "source": [
    "#Point-to-point scatter\n",
    "data.ptp_scatter"
   ]
  },
  {
   "cell_type": "code",
   "execution_count": 12,
   "id": "92453704",
   "metadata": {},
   "outputs": [
    {
     "name": "stderr",
     "output_type": "stream",
     "text": [
      "/Users/marco/Documents/code/science/Brite-Decorrelation-Codes/venv/lib/python3.7/site-packages/erfa/core.py:155: ErfaWarning: ERFA function \"utctai\" yielded 1 of \"dubious year (Note 3)\"\n",
      "  ErfaWarning)\n",
      "/Users/marco/Documents/code/science/Brite-Decorrelation-Codes/venv/lib/python3.7/site-packages/erfa/core.py:155: ErfaWarning: ERFA function \"utctai\" yielded 9246 of \"dubious year (Note 3)\"\n",
      "  ErfaWarning)\n"
     ]
    },
    {
     "data": {
      "text/latex": [
       "$0.00019921231 \\; \\mathrm{mag}$"
      ],
      "text/plain": [
       "<Quantity 0.00019921 mag>"
      ]
     },
     "execution_count": 12,
     "metadata": {},
     "output_type": "execute_result"
    }
   ],
   "source": [
    "#Noise, as computed by the last n points for the periodogram\n",
    "data.noise(100)"
   ]
  },
  {
   "cell_type": "code",
   "execution_count": 13,
   "id": "309367ad",
   "metadata": {},
   "outputs": [
    {
     "data": {
      "text/plain": [
       "9246"
      ]
     },
     "execution_count": 13,
     "metadata": {},
     "output_type": "execute_result"
    }
   ],
   "source": [
    "#Number of datapoints for any given star\n",
    "data.datapoints"
   ]
  },
  {
   "cell_type": "code",
   "execution_count": 14,
   "id": "60ab4f1c",
   "metadata": {},
   "outputs": [
    {
     "data": {
      "text/plain": [
       "array([[1.18466339e+03, 1.18466363e+03, 1.18466386e+03, ...,\n",
       "        1.19710140e+03, 1.19710163e+03, 1.19710234e+03],\n",
       "       [5.62109000e+00, 5.64633000e+00, 5.62041000e+00, ...,\n",
       "        5.68683000e+00, 5.68439000e+00, 5.70140000e+00],\n",
       "       [1.04879490e-02, 1.04879490e-02, 1.04879490e-02, ...,\n",
       "        1.02444160e-02, 1.02444160e-02, 1.02444160e-02],\n",
       "       ...,\n",
       "       [1.17500000e-03, 7.94000000e-04, 9.40000000e-04, ...,\n",
       "        1.50500000e-03, 1.67700000e-03, 1.42000000e-03],\n",
       "       [1.70000000e+02, 1.57000000e+02, 1.41000000e+02, ...,\n",
       "        2.40000000e+01, 7.30000000e+01, 2.60000000e+01],\n",
       "       [5.29415900e-01, 5.32859290e-01, 5.36302680e-01, ...,\n",
       "        7.79943250e-01, 7.83401290e-01, 7.93731450e-01]])"
      ]
     },
     "execution_count": 14,
     "metadata": {},
     "output_type": "execute_result"
    }
   ],
   "source": [
    "#You can also easily get the raw data (time,flux, flux_err)\n",
    "data.raw_data"
   ]
  },
  {
   "cell_type": "code",
   "execution_count": 15,
   "id": "03e79afe",
   "metadata": {},
   "outputs": [
    {
     "data": {
      "text/plain": [
       "'/Users/marco/Google Drive/Astroseismology/BRITE decorrelation summer 2021/Decorrelations/Field 10/RESULTS/HD195068/HD195068_10-Cyg-II-2015_BTr_1_3_A.ndat'"
      ]
     },
     "execution_count": 15,
     "metadata": {},
     "output_type": "execute_result"
    }
   ],
   "source": [
    "data.path"
   ]
  },
  {
   "cell_type": "code",
   "execution_count": 16,
   "id": "e7c1a290",
   "metadata": {},
   "outputs": [
    {
     "data": {
      "text/plain": [
       "HD195068 -> HD195068_10-Cyg-II-2015_BTr_1_3_A.ndat"
      ]
     },
     "execution_count": 16,
     "metadata": {},
     "output_type": "execute_result"
    }
   ],
   "source": [
    "data"
   ]
  },
  {
   "cell_type": "code",
   "execution_count": 17,
   "id": "634e85ba",
   "metadata": {},
   "outputs": [
    {
     "data": {
      "text/plain": [
       "{'Decorrelation Path': '/Users/marco/Google Drive/Astroseismology/BRITE decorrelation summer 2021'}"
      ]
     },
     "execution_count": 17,
     "metadata": {},
     "output_type": "execute_result"
    }
   ],
   "source": [
    "# You may also want to just create a data object from a path.\n",
    "# For this you can access the configuration directly (recommended)\n",
    "\n",
    "config_dict = get_config()\n",
    "config_dict"
   ]
  },
  {
   "cell_type": "code",
   "execution_count": 18,
   "id": "36bcdc04",
   "metadata": {
    "pycharm": {
     "name": "#%%\n"
    }
   },
   "outputs": [
    {
     "data": {
      "text/plain": [
       "'/Users/marco/Google Drive/Astroseismology/BRITE decorrelation summer 2021/Decorrelations/Field 9/HD_143275/02-06-21_GD/RESULTS/HD143275_09-Sco-I-2015_BAb_2_3_A.ndat'"
      ]
     },
     "execution_count": 18,
     "metadata": {},
     "output_type": "execute_result"
    }
   ],
   "source": [
    "path = os.path.join(config_dict['Decorrelation Path'],'Decorrelations/Field 9/HD_143275/02-06-21_GD/RESULTS/HD143275_09-Sco-I-2015_BAb_2_3_A.ndat')\n",
    "path"
   ]
  },
  {
   "cell_type": "code",
   "execution_count": 19,
   "id": "bf6aedcd",
   "metadata": {
    "pycharm": {
     "name": "#%%\n"
    }
   },
   "outputs": [
    {
     "name": "stderr",
     "output_type": "stream",
     "text": [
      "/Users/marco/Documents/code/science/Brite-Decorrelation-Codes/venv/lib/python3.7/site-packages/erfa/core.py:155: ErfaWarning: ERFA function \"utctai\" yielded 1809 of \"dubious year (Note 3)\"\n",
      "  ErfaWarning)\n",
      "/Users/marco/Documents/code/science/Brite-Decorrelation-Codes/venv/lib/python3.7/site-packages/erfa/core.py:155: ErfaWarning: ERFA function \"utctai\" yielded 165 of \"dubious year (Note 3)\"\n",
      "  ErfaWarning)\n"
     ]
    }
   ],
   "source": [
    "data = Data(path,None)"
   ]
  },
  {
   "cell_type": "code",
   "execution_count": 20,
   "id": "572a0672",
   "metadata": {
    "pycharm": {
     "name": "#%%\n"
    }
   },
   "outputs": [
    {
     "data": {
      "image/png": "[encoded data removed]",
      "text/plain": [
       "<Figure size 848.5x400 with 1 Axes>"
      ]
     },
     "metadata": {},
     "output_type": "display_data"
    }
   ],
   "source": [
    "data.scatter()"
   ]
  },
  {
   "cell_type": "code",
   "execution_count": 21,
   "id": "43aab0d1",
   "metadata": {
    "pycharm": {
     "name": "#%%\n"
    }
   },
   "outputs": [
    {
     "name": "stderr",
     "output_type": "stream",
     "text": [
      "/Users/marco/Documents/code/science/Brite-Decorrelation-Codes/venv/lib/python3.7/site-packages/erfa/core.py:155: ErfaWarning: ERFA function \"utctai\" yielded 1 of \"dubious year (Note 3)\"\n",
      "  ErfaWarning)\n",
      "/Users/marco/Documents/code/science/Brite-Decorrelation-Codes/venv/lib/python3.7/site-packages/erfa/core.py:155: ErfaWarning: ERFA function \"utctai\" yielded 1809 of \"dubious year (Note 3)\"\n",
      "  ErfaWarning)\n"
     ]
    },
    {
     "data": {
      "text/plain": [
       "<AxesSubplot:xlabel='Frequency [$\\\\mathrm{\\\\frac{1}{d}}$]', ylabel='Power [$\\\\mathrm{mag}$]'>"
      ]
     },
     "execution_count": 21,
     "metadata": {},
     "output_type": "execute_result"
    },
    {
     "data": {
      "image/png": "[encoded data removed]",
      "text/plain": [
       "<Figure size 848.5x400 with 1 Axes>"
      ]
     },
     "metadata": {},
     "output_type": "display_data"
    }
   ],
   "source": [
    "data.to_periodogram().plot()"
   ]
  },
  {
   "cell_type": "code",
   "execution_count": null,
   "id": "60b3d31f",
   "metadata": {
    "pycharm": {
     "name": "#%%\n"
    }
   },
   "outputs": [],
   "source": []
  }
 ],
 "metadata": {
  "kernelspec": {
   "display_name": "Python 3 (ipykernel)",
   "language": "python",
   "name": "python3"
  },
  "language_info": {
   "codemirror_mode": {
    "name": "ipython",
    "version": 3
   },
   "file_extension": ".py",
   "mimetype": "text/x-python",
   "name": "python",
   "nbconvert_exporter": "python",
   "pygments_lexer": "ipython3",
   "version": "3.7.5"
  }
 },
 "nbformat": 4,
 "nbformat_minor": 5
}

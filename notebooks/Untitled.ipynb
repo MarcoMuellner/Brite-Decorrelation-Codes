{
 "cells": [
  {
   "cell_type": "markdown",
   "id": "63318d4a",
   "metadata": {},
   "source": [
    "Lightcurve Plots for paper"
   ]
  },
  {
   "cell_type": "code",
   "execution_count": null,
   "id": "eb1a0ad1",
   "metadata": {
    "pycharm": {
     "is_executing": true
    }
   },
   "outputs": [],
   "source": [
    "from common import * "
   ]
  },
  {
   "cell_type": "code",
   "execution_count": null,
   "id": "80b6b3a6",
   "metadata": {
    "pycharm": {
     "is_executing": true
    }
   },
   "outputs": [],
   "source": [
    "import matplotlib.pyplot as plt\n",
    "import numpy as np\n",
    "plt.rcParams.update({'font.size': 15, 'xtick.labelsize': 'small', 'ytick.labelsize': 'small','ytick.direction': 'in', 'xtick.direction': 'in',  # tells matplotlib to plot the ticks inward\n",
    "                     'ytick.right': True, 'xtick.top': True, # tells matplotlib to plot the ticks also on the right and on the top\n",
    "                     'xtick.minor.visible': True,'ytick.minor.visible': True, # include minor ticks as well\n",
    "                     'xtick.major.width': 2, 'ytick.major.width': 2 # widht of major ticks\n",
    "\t\t\t\t\t , 'ytick.minor.width': 1.25, 'xtick.minor.width': 1.25, 'axes.titlesize': 'small', 'axes.labelsize' : 'small'})"
   ]
  },
  {
   "cell_type": "code",
   "execution_count": null,
   "id": "b35a6fc3",
   "metadata": {
    "pycharm": {
     "is_executing": true
    }
   },
   "outputs": [],
   "source": [
    "config_dict = get_config()\n",
    "default_result_entry = 'all'"
   ]
  },
  {
   "cell_type": "code",
   "execution_count": null,
   "id": "d33721a0",
   "metadata": {
    "pycharm": {
     "is_executing": true
    }
   },
   "outputs": [],
   "source": [
    "def color(path):\n",
    "    if 'BAb' in path or 'BLb' in path:\n",
    "        return 'royalblue'\n",
    "    elif 'BHr' in path or 'UBr' in path or 'BTr' in path:\n",
    "        return 'firebrick'\n",
    "    else:\n",
    "        raise NameError('No Satellite Name in Path: ' + path)\n",
    "\n",
    "        \n",
    "def create_plot(path, fig):\n",
    "    name = path.split('/')[-1]\n",
    "    data_path = os.path.join(config_dict['Decorrelation Path'],path)\n",
    "    try:\n",
    "        data = Data(path,None)\n",
    "    except:\n",
    "        return\n",
    "    mosaic = \"\"\"\n",
    "            AABCD\n",
    "            AABED\n",
    "            \"\"\"\n",
    "#     fig = plt.figure(constrained_layout=True,figsize = (15,5),dpi = 100)\n",
    "    axes = fig.subplot_mosaic(mosaic)\n",
    "    lk = data._lk_obj\n",
    "    do_ave = True\n",
    "    try:\n",
    "        ave_lk = data._ave_lk_obj\n",
    "    except OS_Error:\n",
    "        do_ave = False\n",
    "    \n",
    "    if ave_lk is None:\n",
    "        do_ave = False\n",
    "    \n",
    "    \n",
    "    zoom_in = lk[abs(lk.time.value - np.mean(lk.time.value)) <= 5]\n",
    "    zoom_in_2 = lk[abs(lk.time.value - np.mean(lk.time.value) - 10) <= 5]\n",
    "    if len(zoom_in_2.time.value) > len(zoom_in.time.value):\n",
    "        zoom_in = zoom_in_2\n",
    "    zoom_in_3 = lk[abs(lk.time.value - np.mean(lk.time.value) + 10) <= 5]\n",
    "    if len(zoom_in_3.time.value) > len(zoom_in.time.value):\n",
    "        zoom_in = zoom_in_3\n",
    "    \n",
    "    \n",
    "    c = color(name)\n",
    "    \n",
    "    axes[\"A\"].plot(lk.time.value, lk.flux.value, 'ko', ms = 0.5, alpha = 0.5)\n",
    "    axes[\"A\"].axvline(zoom_in.time.value[0], color = 'silver', lw = 1, ls = '--', zorder = 5)\n",
    "    axes[\"A\"].axvline(zoom_in.time.value[-1], color = 'silver', lw = 1, ls = '--', zorder = 5)\n",
    "    axes[\"B\"].plot(zoom_in.time.value, zoom_in.flux.value, 'ko', ms = 0.5, alpha = 0.5)\n",
    "    \n",
    "    if do_ave:\n",
    "        ave_zoom_in = ave_lk[abs(ave_lk.time.value - zoom_in.time.value[0] - 5) <= 5]\n",
    "        axes[\"B\"].plot(ave_zoom_in.time.value, ave_zoom_in.flux.value,  color = c, ls = '', marker = 'o',  ms = 1.5, alpha = 0.75)\n",
    "        axes[\"A\"].plot(ave_lk.time.value, ave_lk.flux.value,  color = c, ls = '', marker = 'o', ms = 1.5, alpha = 0.75)\n",
    "    \n",
    "    pdg = data.to_periodogram(minimum_frequency = 0.1, maximum_frequency = 100)\n",
    "    period = pdg.period_at_max_power.value\n",
    "    period2 = 2*period\n",
    "    # print(period)\n",
    "    \n",
    "\n",
    "    \n",
    "    \n",
    "    axes[\"C\"].plot((lk.time.value%period)/period, lk.flux.value, 'ko', ms = 0.5, alpha = 0.5)\n",
    "    axes[\"C\"].plot((lk.time.value%period)/period + 1, lk.flux.value, 'ko', ms = 0.5, alpha = 0.5)\n",
    "    axes[\"E\"].plot((lk.time.value%period2)/period2, lk.flux.value, 'ko', ms = 0.5, alpha = 0.5)\n",
    "    axes[\"E\"].plot((lk.time.value%period2)/period2 + 1, lk.flux.value, 'ko', ms = 0.5, alpha = 0.5)\n",
    "    axes[\"D\"].axvline(1/period, color = c, lw = 2, ls = '-')\n",
    "    axes[\"D\"].axvline(1/period2, color = c, lw = 2, ls = '--')\n",
    "    axes[\"D\"].plot(pdg.frequency, pdg.power, 'k-', lw = 1)\n",
    "    \n",
    "    \n",
    "    if do_ave:\n",
    "        axes[\"C\"].plot((ave_lk.time.value%period)/period, ave_lk.flux.value, color = c, ls = '', marker = 'o', ms = 1.5, alpha = 0.75)\n",
    "        axes[\"C\"].plot((ave_lk.time.value%period)/period + 1, ave_lk.flux.value, color = c, ls = '', marker = 'o', ms = 1.5, alpha = 0.75)\n",
    "        axes[\"E\"].plot((ave_lk.time.value%period2)/period2, ave_lk.flux.value,  color = c, ls = '', marker = 'o', ms = 1.5, alpha = 0.75)\n",
    "        axes[\"E\"].plot((ave_lk.time.value%period2)/period2 + 1, ave_lk.flux.value, color = c, ls = '', marker = 'o', ms = 1.5, alpha = 0.75)\n",
    "    \n",
    "    axes[\"D\"].set_xlim(0, np.max([10, 2/period]))\n",
    "    axes[\"B\"].set_yticklabels([])\n",
    "    x1 = np.round(zoom_in.time.value[0] + 2, 0)\n",
    "    x3 = np.round(zoom_in.time.value[0] + 8, 0)\n",
    "    x2 = np.round((x1 + x3)/2, 0)\n",
    "    axes[\"B\"].set_xticks([x1, x2, x3])\n",
    "    axes[\"C\"].set_yticklabels([])\n",
    "    axes[\"E\"].set_yticklabels([])\n",
    "    axes['D'].yaxis.tick_right()\n",
    "    axes['D'].yaxis.set_label_position('right')\n",
    "    axes['C'].xaxis.set_label_position('top') \n",
    "    axes[\"A\"].invert_yaxis()\n",
    "    axes[\"B\"].invert_yaxis()\n",
    "    axes[\"C\"].invert_yaxis()\n",
    "    axes[\"E\"].invert_yaxis()\n",
    "    axes[\"A\"].set_xlabel(\"time (days)\")\n",
    "    axes[\"B\"].set_xlabel(\"time (days)\")\n",
    "    axes[\"C\"].set_xlabel(\"phase P={:3f} d\".format(period))\n",
    "    axes[\"E\"].set_title(\"phase P={:3f} d\".format(period2))\n",
    "    axes[\"D\"].set_xlabel(\"frequency ($d^{-1}$)\")\n",
    "    axes[\"A\"].set_ylabel(\"Magnitude\")\n",
    "    axes[\"D\"].set_ylabel(\"Power\")\n",
    "    axes[\"D\"].set_title(\"f={:3f} \".format(1/period) + '${\\\\rmd}^{-1}$')\n",
    "    ylim = axes[\"A\"].get_ylim()\n",
    "    axes[\"B\"].set_ylim(ylim)\n",
    "    axes[\"C\"].set_ylim(ylim)\n",
    "    axes[\"E\"].set_ylim(ylim)\n",
    "    axes[\"A\"].set_title(data.starname + \"   \" + data.satellite + \"    Field:\" + data.field)\n",
    "    # plt.tight_layout()\n",
    "    plt.subplots_adjust(wspace=0, hspace=0, left = 0.05, right = 0.95)\n",
    "#     plt.savefig(f\"../LC_overview_plot/{name}.png\", facecolor = \"white\")\n",
    "        \n",
    "def create_plot_array(array_of_datasets, name):\n",
    "    n = len(array_of_datasets)\n",
    "    \n",
    "    fig = plt.figure(constrained_layout=True, figsize=(21, 29.7 / 10 * n), dpi = 100)\n",
    "    subfigs = fig.subfigures(n, 1, hspace = 0.075)\n",
    "    for i in range(n):\n",
    "        create_plot(array_of_datasets[i]._path, subfigs[i])\n",
    "    plt.savefig(f\"../combined_plots/{name}.png\", facecolor = \"white\")\n",
    "    print(f'Saved {name}.png')\n",
    "\n",
    "    "
   ]
  },
  {
   "cell_type": "code",
   "execution_count": null,
   "id": "10d20e4a",
   "metadata": {
    "pycharm": {
     "is_executing": true
    }
   },
   "outputs": [
    {
     "name": "stdout",
     "output_type": "stream",
     "text": [
      "Saved HD 148478_HD 148688_HD 142669_HD 139365_.png\n"
     ]
    }
   ],
   "source": [
    "num = 0\n",
    "# for field in [9, 10, 11, 12, 14]:\n",
    "import warnings\n",
    "\n",
    "with warnings.catch_warnings():\n",
    "    warnings.simplefilter(\"ignore\")\n",
    "    \n",
    "    for field in [9]:\n",
    "        stars = load(field)\n",
    "        \n",
    "        array_of_datasets = []\n",
    "        name = ''\n",
    "        for star in stars:\n",
    "            name= name + star.__str__() + '_'\n",
    "            result_path = star.results[0]\n",
    "            for dataset in star.get_all_data_sets(result_path):\n",
    "                if dataset.combined:\n",
    "                    array_of_datasets.append(dataset)\n",
    "                    if len(array_of_datasets) == 10:\n",
    "                        create_plot_array(array_of_datasets, name)\n",
    "                        array_of_datasets = []\n",
    "                        name = ''\n",
    "        \n",
    "        create_plot_array(array_of_datasets, name)"
   ]
  },
  {
   "cell_type": "code",
   "execution_count": null,
   "id": "ad9f3097",
   "metadata": {
    "pycharm": {
     "is_executing": true
    }
   },
   "outputs": [],
   "source": []
  }
 ],
 "metadata": {
  "kernelspec": {
   "display_name": "Python 3 (ipykernel)",
   "language": "python",
   "name": "python3"
  },
  "language_info": {
   "codemirror_mode": {
    "name": "ipython",
    "version": 3
   },
   "file_extension": ".py",
   "mimetype": "text/x-python",
   "name": "python",
   "nbconvert_exporter": "python",
   "pygments_lexer": "ipython3",
   "version": "3.7.5"
  }
 },
 "nbformat": 4,
 "nbformat_minor": 5
}
{
 "cells": [
  {
   "cell_type": "code",
   "execution_count": 1,
   "metadata": {},
   "outputs": [
    {
     "name": "stdout",
     "output_type": "stream",
     "text": [
      "/Users/thomas/.brite\n"
     ]
    }
   ],
   "source": [
    "from common import *"
   ]
  },
  {
   "cell_type": "code",
   "execution_count": 6,
   "metadata": {
    "pycharm": {
     "is_executing": true,
     "name": "#%%\n"
    }
   },
   "outputs": [
    {
     "name": "stdout",
     "output_type": "stream",
     "text": [
      "Saving HD66811_14-VelPup-II-2015_BAb_1_2_4 in /Users/thomas/Documents/Projects/BRITE/Brite-Decorrelation-Codes/Decorrelations/Field 14/HD_66811/RESULTS\n",
      "Saving HD75311_14-VelPup-II-2015_BAb_1_2_4 in /Users/thomas/Documents/Projects/BRITE/Brite-Decorrelation-Codes/Decorrelations/Field 14/HD_75311/RESULTS\n",
      "Saving HD81188_14-VelPup-II-2015_BAb_1_2_4 in /Users/thomas/Documents/Projects/BRITE/Brite-Decorrelation-Codes/Decorrelations/Field 14/HD_81188/RESULTS\n",
      "Saving HD68273_14-VelPup-II-2015_BAb_1_2_4 in /Users/thomas/Documents/Projects/BRITE/Brite-Decorrelation-Codes/Decorrelations/Field 14/HD_68273/RESULTS\n",
      "Saving HD64760_14-VelPup-II-2015_BAb_1_2_4 in /Users/thomas/Documents/Projects/BRITE/Brite-Decorrelation-Codes/Decorrelations/Field 14/HD_64760/RESULTS\n",
      "Saving HD64740_14-VelPup-II-2015_BAb_1_2_4 in /Users/thomas/Documents/Projects/BRITE/Brite-Decorrelation-Codes/Decorrelations/Field 14/HD_64740/RESULTS\n",
      "Saving HD65575_14-VelPup-II-2015_BAb_1_2_4 in /Users/thomas/Documents/Projects/BRITE/Brite-Decorrelation-Codes/Decorrelations/Field 14/HD_65575/RESULTS\n",
      "Saving HD76728_14-VelPup-II-2015_BAb_1_2_4 in /Users/thomas/Documents/Projects/BRITE/Brite-Decorrelation-Codes/Decorrelations/Field 14/HD_76728/RESULTS\n",
      "Saving HD80404_14-VelPup-II-2015_BAb_1_2_4 in /Users/thomas/Documents/Projects/BRITE/Brite-Decorrelation-Codes/Decorrelations/Field 14/HD_80404/RESULTS\n",
      "Saving HD79351_14-VelPup-II-2015_BAb_1_2_4 in /Users/thomas/Documents/Projects/BRITE/Brite-Decorrelation-Codes/Decorrelations/Field 14/HD_79351/RESULTS\n",
      "Saving HD65818_14-VelPup-II-2015_BAb_1_2_4 in /Users/thomas/Documents/Projects/BRITE/Brite-Decorrelation-Codes/Decorrelations/Field 14/HD_65818/RESULTS\n",
      "Saving HD74195_14-VelPup-II-2015_BAb_1_2_4 in /Users/thomas/Documents/Projects/BRITE/Brite-Decorrelation-Codes/Decorrelations/Field 14/HD_74195/RESULTS\n"
     ]
    }
   ],
   "source": [
    "# Lets see if we can't use this code to combine things. Take a random star\n",
    "# Simply iterate over all stars, pass the data as a list to the combine_data\n",
    "# function, and it does its thing. Choose the field from the top.\n",
    "# Also ignore the warnings, they are pointless.\n",
    "import warnings\n",
    "\n",
    "with warnings.catch_warnings():\n",
    "    warnings.simplefilter(\"ignore\")\n",
    "    \n",
    "    stars = load(14)\n",
    "    for star in stars:\n",
    "        combine_data(star.get_all_data_sets(star.results[0]))"
   ]
  },
  {
   "cell_type": "code",
   "execution_count": null,
   "metadata": {
    "pycharm": {
     "name": "#%%\n"
    }
   },
   "outputs": [],
   "source": []
  }
 ],
 "metadata": {
  "kernelspec": {
   "display_name": "Python 3 (ipykernel)",
   "language": "python",
   "name": "python3"
  },
  "language_info": {
   "codemirror_mode": {
    "name": "ipython",
    "version": 3
   },
   "file_extension": ".py",
   "mimetype": "text/x-python",
   "name": "python",
   "nbconvert_exporter": "python",
   "pygments_lexer": "ipython3",
   "version": "3.7.5"
  }
 },
 "nbformat": 4,
 "nbformat_minor": 1
}